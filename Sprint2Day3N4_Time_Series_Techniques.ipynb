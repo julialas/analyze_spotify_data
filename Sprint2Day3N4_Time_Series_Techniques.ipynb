{
 "cells": [
  {
   "cell_type": "markdown",
   "metadata": {},
   "source": [
    "# Time Series Techniques"
   ]
  },
  {
   "cell_type": "markdown",
   "metadata": {},
   "source": [
    "A *time series* is any data that is indexed by some measure of time.\n",
    "\n",
    "A *time series plot* is a graph where some measure of time is the unit on the x-axis, often called the time-axis. The y-axis is for the variable that is being measured.\n",
    "\n",
    "Time series analysis comprises methods for analyzing time series data in order to extract meaningful statistics and other characteristics of the data."
   ]
  },
  {
   "cell_type": "code",
   "execution_count": null,
   "metadata": {
    "ExecuteTime": {
     "end_time": "2020-10-07T11:08:53.144470Z",
     "start_time": "2020-10-07T11:08:48.853142Z"
    }
   },
   "outputs": [],
   "source": [
    "# importing the libraries for data processing\n",
    "import numpy as np \n",
    "import pandas as pd \n",
    "\n",
    "#matplotlib for visualizations\n",
    "import matplotlib.pyplot as plt\n"
   ]
  },
  {
   "cell_type": "markdown",
   "metadata": {},
   "source": [
    "### 1. Data Preparation\n",
    "Merge the charts and the tracks datasets. Repeat the process from the previous notebook"
   ]
  },
  {
   "cell_type": "code",
   "execution_count": null,
   "metadata": {
    "ExecuteTime": {
     "end_time": "2020-10-07T11:08:58.777636Z",
     "start_time": "2020-10-07T11:08:57.540357Z"
    }
   },
   "outputs": [],
   "source": [
    "# read and process the charts dataset\n",
    "charts_df = pd.read_csv('data/spotify_daily_charts.csv')\n",
    "#transform date column into a datetime column\n",
    "charts_df['date'] = pd.to_datetime(charts_df['date'])\n",
    "charts_df.head()"
   ]
  },
  {
   "cell_type": "code",
   "execution_count": null,
   "metadata": {
    "ExecuteTime": {
     "end_time": "2020-10-07T11:08:59.892067Z",
     "start_time": "2020-10-07T11:08:59.799137Z"
    },
    "scrolled": true
   },
   "outputs": [],
   "source": [
    "# read and process the tracks dataset\n",
    "tracks_df = pd.read_csv('data/spotify_daily_charts_tracks.csv')\n",
    "tracks_df.head()"
   ]
  },
  {
   "cell_type": "code",
   "execution_count": null,
   "metadata": {
    "ExecuteTime": {
     "end_time": "2020-10-07T11:09:01.577139Z",
     "start_time": "2020-10-07T11:09:00.951461Z"
    }
   },
   "outputs": [],
   "source": [
    "df = charts_df.merge(tracks_df, on='track_id', how='left')\n",
    "\n",
    "df = df.drop(columns='track_name_y')\n",
    "df = df.rename(columns={'track_name_x':'track_name'})\n",
    "df.head()"
   ]
  },
  {
   "cell_type": "markdown",
   "metadata": {},
   "source": [
    "### 2. Detecting Trends and Seasons in Time Series"
   ]
  },
  {
   "cell_type": "markdown",
   "metadata": {},
   "source": [
    "![](https://anomaly.io/wp-content/uploads/2015/12/time-series-decomposition-seasonal-trend.png)"
   ]
  },
  {
   "cell_type": "markdown",
   "metadata": {},
   "source": [
    "Any time series may be split up, i.e. \"decomposed\", into a repeating part (seasonal component), a linearly moving part (trend component) and everything else (random or residual component). \n",
    "\n",
    "How can we decompose it to these 3 components?"
   ]
  },
  {
   "cell_type": "markdown",
   "metadata": {},
   "source": [
    "##### Seasonal and Trend decomposition using Loess (STL) Method\n",
    "\n",
    "From the [statsmodels documentation](https://otexts.com/fpp2/stl.html) :\n",
    "\n",
    "STL is a versatile and robust method for decomposing time series. \n",
    "\n",
    "STL is an acronym for “Seasonal and Trend decomposition using Loess”, while Loess is a method for estimating nonlinear relationships. \n",
    "\n",
    "The STL method was developed by Cleveland, Cleveland, McRae, & Terpenning (1990).\n",
    "\n",
    "STL has several advantages over the classical decomposition methods:\n",
    "\n",
    " - STL will handle any type of seasonality, not only monthly and quarterly data.\n",
    "\n",
    " - The seasonal component is allowed to change over time, and the rate of change can be controlled by the user.\n",
    "\n",
    " - The smoothness of the trend-cycle can also be controlled by the user.\n",
    "\n",
    "It can be robust to outliers (i.e., the user can specify a robust decomposition), so that occasional unusual observations will not affect the estimates of the trend-cycle and seasonal components. They will, however, affect the remainder component.\n",
    "\n",
    "Lets look at it in action in a [sample dataset](https://www.statsmodels.org/devel/datasets/generated/co2.html) (CO2 concentration measured in Mauna Loa Observatory, Hawaii)"
   ]
  },
  {
   "cell_type": "code",
   "execution_count": null,
   "metadata": {
    "ExecuteTime": {
     "end_time": "2021-01-24T10:32:31.273489Z",
     "start_time": "2021-01-24T10:32:31.213181Z"
    },
    "scrolled": true
   },
   "outputs": [],
   "source": [
    "import statsmodels.api as sm\n",
    "from statsmodels import datasets\n",
    "\n",
    "\n",
    "sample_df = datasets.co2.load_pandas().data \n",
    "sample_df.head()"
   ]
  },
  {
   "cell_type": "code",
   "execution_count": null,
   "metadata": {
    "ExecuteTime": {
     "end_time": "2021-01-24T10:34:00.384743Z",
     "start_time": "2021-01-24T10:34:00.369822Z"
    }
   },
   "outputs": [],
   "source": [
    "sample_df.info()"
   ]
  },
  {
   "cell_type": "code",
   "execution_count": null,
   "metadata": {
    "ExecuteTime": {
     "end_time": "2021-01-24T10:32:43.987117Z",
     "start_time": "2021-01-24T10:32:43.763560Z"
    }
   },
   "outputs": [],
   "source": [
    "sample_df['co2'].hist()"
   ]
  },
  {
   "cell_type": "code",
   "execution_count": null,
   "metadata": {
    "ExecuteTime": {
     "end_time": "2020-10-07T11:12:04.733429Z",
     "start_time": "2020-10-07T11:12:03.204350Z"
    }
   },
   "outputs": [],
   "source": [
    "sample_df.plot()"
   ]
  },
  {
   "cell_type": "code",
   "execution_count": null,
   "metadata": {
    "ExecuteTime": {
     "end_time": "2020-10-07T11:15:43.658213Z",
     "start_time": "2020-10-07T11:15:38.277833Z"
    }
   },
   "outputs": [],
   "source": [
    "res = sm.tsa.seasonal_decompose(sample_df['co2'].interpolate())\n",
    "resplot = res.plot()\n",
    "plt.suptitle(\"Mauna Loa Weekly Atmospheric CO2 Concentration\", y=1.01)"
   ]
  },
  {
   "cell_type": "markdown",
   "metadata": {},
   "source": [
    "> Interpretation: For ~50 years, it is the increasing trend that dominates the behavior of measured CO2 over Mauna Loa, Hawaii. The seasonal and residual parts contribute less as they comprise <1% of the CO2 concentration."
   ]
  },
  {
   "cell_type": "markdown",
   "metadata": {},
   "source": [
    "Q: How does STL look like with top streamed artist Ben&Ben?"
   ]
  },
  {
   "cell_type": "code",
   "execution_count": null,
   "metadata": {
    "ExecuteTime": {
     "end_time": "2020-10-07T11:19:12.733195Z",
     "start_time": "2020-10-07T11:19:11.806207Z"
    }
   },
   "outputs": [],
   "source": [
    "#get all dates\n",
    "data1 = pd.DataFrame({'date':pd.unique(df['date'])}).set_index('date').asfreq('d')\n",
    "#get total streams of all charting songs of the artist per day\n",
    "artist_streams = df[df['artist']=='Ben&Ben'].groupby('date')[['streams']].sum()\n",
    "#merge with complete dates\n",
    "data1['streams']=artist_streams\n",
    "#fill days with no streams with 0\n",
    "data1['streams']=data1['streams'].fillna(0)\n",
    "data1.plot()"
   ]
  },
  {
   "cell_type": "code",
   "execution_count": null,
   "metadata": {
    "ExecuteTime": {
     "end_time": "2020-10-07T11:20:56.730161Z",
     "start_time": "2020-10-07T11:20:52.792305Z"
    }
   },
   "outputs": [],
   "source": [
    "res = sm.tsa.seasonal_decompose(data1)\n",
    "resplot = res.plot()"
   ]
  },
  {
   "cell_type": "code",
   "execution_count": null,
   "metadata": {
    "ExecuteTime": {
     "end_time": "2020-10-07T11:23:30.118839Z",
     "start_time": "2020-10-07T11:23:27.922011Z"
    },
    "scrolled": false
   },
   "outputs": [],
   "source": [
    "#get each component \n",
    "data_decomposed = data1.copy()\n",
    "data_decomposed['trend_component'] = res.trend\n",
    "data_decomposed['seasonal_component'] = res.seasonal\n",
    "data_decomposed['residual_component'] = res.resid\n",
    "\n",
    "data_decomposed.tail(400).plot()"
   ]
  },
  {
   "cell_type": "markdown",
   "metadata": {},
   "source": [
    "Q: How about for Jose Mari Chan, a Christmas song artist?"
   ]
  },
  {
   "cell_type": "code",
   "execution_count": null,
   "metadata": {
    "ExecuteTime": {
     "end_time": "2020-10-07T11:24:53.184951Z",
     "start_time": "2020-10-07T11:24:52.461296Z"
    }
   },
   "outputs": [],
   "source": [
    "data2 = pd.DataFrame({'date':pd.unique(df['date'])}).set_index('date').asfreq('d')\n",
    "artist_streams = df[df['artist']=='Jose Mari Chan'].groupby('date')[['streams']].sum()\n",
    "data2['streams']=artist_streams\n",
    "data2['streams']=data2['streams'].fillna(0)\n",
    "data2.plot()"
   ]
  },
  {
   "cell_type": "code",
   "execution_count": null,
   "metadata": {
    "ExecuteTime": {
     "end_time": "2021-01-24T10:48:06.278399Z",
     "start_time": "2021-01-24T10:48:05.802406Z"
    }
   },
   "outputs": [],
   "source": [
    "res = sm.tsa.seasonal_decompose(data2['streams'])\n",
    "data_decomposed = data2.copy()\n",
    "data_decomposed['trend_component'] = res.trend\n",
    "data_decomposed['seasonal_component'] = res.seasonal\n",
    "data_decomposed['residual_component'] = res.resid\n",
    "data_decomposed['season_strength'] = data_decomposed['seasonal_component']/data_decomposed['trend_component']\n",
    "data_decomposed[['streams','trend_component','residual_component']].tail(400).plot()"
   ]
  },
  {
   "cell_type": "markdown",
   "metadata": {},
   "source": [
    "## 3. Autocorrelation and Partial Autocorrelation Functions"
   ]
  },
  {
   "cell_type": "markdown",
   "metadata": {},
   "source": [
    "Its one thing to detect trends and seasonality in your time series data, but wouldnt it be nice if we could quantify how exactly past values influence present values? Autocorrelation and Partial Autocorrelation functions can help us achieve this goal."
   ]
  },
  {
   "cell_type": "markdown",
   "metadata": {},
   "source": [
    "### Stationarity and differencing time series data\n",
    "\n",
    "A *stationary time series* is one whose statistical properties such as mean, variance, autocorrelation, etc. are all constant over time. Most statistical forecasting methods are based on the assumption that the time series can be rendered approximately stationary (i.e., “stationarized”) through the use of mathematical transformations. \n",
    "\n",
    "Lagged differencing is a simple transformation method that can be used to remove the seasonal component of the series. A lagged difference over an interval n is the difference of the value at current time t and another value at another past time t-n.\n",
    "\n",
    "This is easily done in pandas using the `diff()` method"
   ]
  },
  {
   "cell_type": "code",
   "execution_count": null,
   "metadata": {
    "ExecuteTime": {
     "end_time": "2020-10-07T11:32:49.890263Z",
     "start_time": "2020-10-07T11:32:49.336581Z"
    }
   },
   "outputs": [],
   "source": [
    "fig = plt.figure(figsize=(10,3))\n",
    "ax = fig.add_subplot(111)\n",
    "\n",
    "plt.plot(sample_df['co2'].interpolate().diff())"
   ]
  },
  {
   "cell_type": "markdown",
   "metadata": {},
   "source": [
    "### The Autocorrelation Function (ACF)\n",
    "Simply put, a time series has autocorrelation if  autocorrelation is when a time series is linearly related to a lagged version of itself. \n",
    "\n",
    "It is a measure of how much of the past resembles the present.\n",
    "\n",
    "The ACF can be used to uncover and verify seasonality in time series data. \n",
    "\n",
    "\n",
    "For example, at lag = 1"
   ]
  },
  {
   "cell_type": "markdown",
   "metadata": {},
   "source": [
    "![](https://46gyn61z4i0t1u1pnq2bbk2e-wpengine.netdna-ssl.com/wp-content/uploads/2018/04/Positive-and-negative-autocorrelation.png)"
   ]
  },
  {
   "cell_type": "markdown",
   "metadata": {},
   "source": [
    "Autocorrelation values range from [-1,1]\n",
    "\n",
    "Positive autocorrelation values mean that present data is similar and has likely already happened in the past. \n",
    "\n",
    "Negative autocorrelation values mean that present data is also similar to the past, but with an opposite sign."
   ]
  },
  {
   "cell_type": "code",
   "execution_count": null,
   "metadata": {
    "ExecuteTime": {
     "end_time": "2021-01-24T10:55:48.846727Z",
     "start_time": "2021-01-24T10:55:48.843047Z"
    }
   },
   "outputs": [],
   "source": [
    "from statsmodels.graphics.tsaplots import plot_acf, plot_pacf"
   ]
  },
  {
   "cell_type": "code",
   "execution_count": null,
   "metadata": {
    "ExecuteTime": {
     "end_time": "2021-01-24T10:55:49.423096Z",
     "start_time": "2021-01-24T10:55:49.174772Z"
    }
   },
   "outputs": [],
   "source": [
    "fig = plt.figure(figsize=(10,3))\n",
    "ax = fig.add_subplot(111)\n",
    "\n",
    "acf = plot_acf(sample_df['co2'].interpolate().diff()[1:], lags=104, ax=ax)"
   ]
  },
  {
   "cell_type": "markdown",
   "metadata": {},
   "source": [
    "Values outside the band mean that the correlation value at that time lag is significant. \n",
    "\n",
    "> Interpretation: The peaks occur at lag 25/52 and alternates in sign, which describes how CO2 falls globally as the seasons transition from summer to winter."
   ]
  },
  {
   "cell_type": "markdown",
   "metadata": {},
   "source": [
    "### The Partial Autocorrelation Function (PACF)\n",
    "The partial autocorrelation function is a measure of the correlation between observations of a time series that are separated by k time units (yt and yt–k), AFTER adjusting for the presence of all the other terms of shorter lag (yt–1, yt–2, ..., yt–k–1)."
   ]
  },
  {
   "cell_type": "code",
   "execution_count": null,
   "metadata": {
    "ExecuteTime": {
     "end_time": "2021-01-24T10:58:27.260604Z",
     "start_time": "2021-01-24T10:58:26.932047Z"
    }
   },
   "outputs": [],
   "source": [
    "fig = plt.figure(figsize=(10,3))\n",
    "ax = fig.add_subplot(111)\n",
    "\n",
    "pacf = plot_pacf(sample_df['co2'].interpolate().diff()[1:], lags=104, ax=ax)\n",
    "#pacf.get_xdata()"
   ]
  },
  {
   "cell_type": "markdown",
   "metadata": {},
   "source": [
    "Values outside the band mean that the correlation value at that time lag is significant. \n",
    "\n",
    "For CO2 concentration data, the PACF lags correlation are sharpest when the finishes approximately two annual (lag 100-104) cycles."
   ]
  },
  {
   "cell_type": "markdown",
   "metadata": {},
   "source": [
    "> Q: How does ACF and PACF look like for Ben&Ben and Jose Mari Chan's total daily streams"
   ]
  },
  {
   "cell_type": "markdown",
   "metadata": {},
   "source": [
    "Ben&Ben"
   ]
  },
  {
   "cell_type": "code",
   "execution_count": null,
   "metadata": {
    "ExecuteTime": {
     "end_time": "2021-01-24T11:00:23.310786Z",
     "start_time": "2021-01-24T11:00:23.076139Z"
    }
   },
   "outputs": [],
   "source": [
    "#stationarize\n",
    "fig = plt.figure(figsize=(10,3))\n",
    "ax = fig.add_subplot(111)\n",
    "\n",
    "plt.plot(data1['streams'].interpolate().diff()[1:])"
   ]
  },
  {
   "cell_type": "code",
   "execution_count": null,
   "metadata": {
    "ExecuteTime": {
     "end_time": "2021-01-24T11:00:25.021096Z",
     "start_time": "2021-01-24T11:00:23.477380Z"
    }
   },
   "outputs": [],
   "source": [
    "#Ben & Ben\n",
    "fig = plt.figure(figsize=(10,6))\n",
    "ax1 = fig.add_subplot(211)\n",
    "ax2 = fig.add_subplot(212)\n",
    "\n",
    "acf = plot_acf(data1['streams'].interpolate().diff()[1:], lags=365, ax=ax1)\n",
    "pacf = plot_pacf(data1['streams'].interpolate().diff()[1:], lags=365, ax=ax2)"
   ]
  },
  {
   "cell_type": "markdown",
   "metadata": {},
   "source": [
    "Jose Mari Chan"
   ]
  },
  {
   "cell_type": "code",
   "execution_count": null,
   "metadata": {
    "ExecuteTime": {
     "end_time": "2021-01-24T11:00:25.352616Z",
     "start_time": "2021-01-24T11:00:25.087852Z"
    }
   },
   "outputs": [],
   "source": [
    "fig = plt.figure(figsize=(10,3))\n",
    "ax = fig.add_subplot(111)\n",
    "\n",
    "plt.plot(data2['streams'].interpolate().diff()[1:])"
   ]
  },
  {
   "cell_type": "code",
   "execution_count": null,
   "metadata": {
    "ExecuteTime": {
     "end_time": "2021-01-24T11:00:27.495287Z",
     "start_time": "2021-01-24T11:00:25.988206Z"
    }
   },
   "outputs": [],
   "source": [
    "#Jose Mari Chan\n",
    "fig = plt.figure(figsize=(10,6))\n",
    "ax1 = fig.add_subplot(211)\n",
    "ax2 = fig.add_subplot(212)\n",
    "\n",
    "#full year lag\n",
    "acf = plot_acf(data2['streams'].interpolate().diff()[1:], lags=365, ax=ax1)\n",
    "pacf = plot_pacf(data2['streams'].interpolate().diff()[1:], lags=365, ax=ax2)"
   ]
  },
  {
   "cell_type": "markdown",
   "metadata": {},
   "source": [
    "## 4. Some time series forecasting techniques"
   ]
  },
  {
   "cell_type": "markdown",
   "metadata": {},
   "source": [
    "Time series forecasting is the use of a model to predict future values based on previously observed values. Here are but a few techniques that could help you start exploring this field."
   ]
  },
  {
   "cell_type": "markdown",
   "metadata": {},
   "source": [
    ">Q: Can you predict Ben&Ben's Kathang Isip daily streams for the last quarter(Oct-Dec) of 2020 using data from past dates?"
   ]
  },
  {
   "cell_type": "code",
   "execution_count": null,
   "metadata": {
    "ExecuteTime": {
     "end_time": "2021-01-24T11:48:34.923404Z",
     "start_time": "2021-01-24T11:48:34.920657Z"
    }
   },
   "outputs": [],
   "source": [
    "from statsmodels.tools.eval_measures import rmse, meanabs\n",
    "\n",
    "# The Root Mean Square Error (RMSE) penalizes larger errors higher,\n",
    "# while the Mean Absolute Error (MAE, meanabs) weighs all errors equally regardless of magnitude"
   ]
  },
  {
   "cell_type": "code",
   "execution_count": null,
   "metadata": {
    "ExecuteTime": {
     "end_time": "2021-01-24T11:58:02.686513Z",
     "start_time": "2021-01-24T11:58:02.682916Z"
    }
   },
   "outputs": [],
   "source": [
    "#convert streams to hundred thousands\n",
    "data = data1/100000"
   ]
  },
  {
   "cell_type": "code",
   "execution_count": null,
   "metadata": {
    "ExecuteTime": {
     "end_time": "2021-01-24T11:58:03.280495Z",
     "start_time": "2021-01-24T11:58:02.929902Z"
    }
   },
   "outputs": [],
   "source": [
    "#split dataset to training and test sets\n",
    "#Index 10392 marks the end of October 2013 \n",
    "train_df = data['2019-01-01':'2020-09-30']\n",
    "test_df = data['2020-10-01':'2020-12-31']\n",
    "\n",
    "fig = plt.figure(figsize=(10,3))\n",
    "ax = fig.add_subplot(111)\n",
    "train_df['streams'].plot(color='C7',ax=ax, label='train')\n",
    "test_df['streams'].plot(color='C0',ax=ax, label='test')\n",
    "plt.legend()\n",
    "plt.ylabel(\"Streams (in hundred thousands)\")"
   ]
  },
  {
   "cell_type": "markdown",
   "metadata": {},
   "source": [
    "1. **Naive Approach**: The most recent value is forecast value"
   ]
  },
  {
   "cell_type": "code",
   "execution_count": null,
   "metadata": {
    "ExecuteTime": {
     "end_time": "2021-01-24T11:58:10.834306Z",
     "start_time": "2021-01-24T11:58:10.823751Z"
    }
   },
   "outputs": [],
   "source": [
    "# To simulate a naive forecast\n",
    "# shift the data 1 day to the right\n",
    "forecast_df = data.shift(1)['2020-10-01':'2020-12-31']\n",
    "forecast_df.head()"
   ]
  },
  {
   "cell_type": "code",
   "execution_count": null,
   "metadata": {
    "ExecuteTime": {
     "end_time": "2021-01-24T11:58:14.495599Z",
     "start_time": "2021-01-24T11:58:14.153514Z"
    }
   },
   "outputs": [],
   "source": [
    "# plot the forecast\n",
    "fig = plt.figure(figsize=(10,3))\n",
    "ax = fig.add_subplot(111)\n",
    "\n",
    "train_df['streams']['2020-07-01':].plot(color='C7',ax=ax, label='train')\n",
    "\n",
    "test_df['streams'].plot(color='C0',ax=ax, label='test')\n",
    "forecast_df['streams'].plot(color='C1',ax=ax, label='forecast')\n",
    "plt.legend()\n",
    "plt.ylabel(\"Streams (in hundred thousands)\")"
   ]
  },
  {
   "cell_type": "code",
   "execution_count": null,
   "metadata": {
    "ExecuteTime": {
     "end_time": "2021-01-24T11:58:17.445772Z",
     "start_time": "2021-01-24T11:58:17.439972Z"
    }
   },
   "outputs": [],
   "source": [
    "#Error Metrics\n",
    "print(\"The RMSE is %0.2f\" % rmse(test_df['streams'],forecast_df['streams']))\n",
    "print(\"The MAE is %0.2f\" % meanabs(test_df['streams'],forecast_df['streams']))"
   ]
  },
  {
   "cell_type": "markdown",
   "metadata": {},
   "source": [
    "2. **Windowed Average Approach**: The average over the most recent days is the forecast value"
   ]
  },
  {
   "cell_type": "code",
   "execution_count": null,
   "metadata": {
    "ExecuteTime": {
     "end_time": "2021-01-24T12:03:21.144078Z",
     "start_time": "2021-01-24T12:03:21.129942Z"
    }
   },
   "outputs": [],
   "source": [
    "# To simulate a windowed forecast\n",
    "# use the pd.rolling grouper and pass the mean method\n",
    "# and shift 1 day ahead\n",
    "\n",
    "#Set window to 7 days\n",
    "forecast_df = data.rolling(7).mean().shift(1)['2020-10-01':'2020-12-31']\n",
    "forecast_df.head()"
   ]
  },
  {
   "cell_type": "code",
   "execution_count": null,
   "metadata": {
    "ExecuteTime": {
     "end_time": "2021-01-24T11:58:46.744764Z",
     "start_time": "2021-01-24T11:58:46.391732Z"
    }
   },
   "outputs": [],
   "source": [
    "#plot the forecast\n",
    "fig = plt.figure(figsize=(10,3))\n",
    "ax = fig.add_subplot(111)\n",
    "\n",
    "train_df['streams']['2020-07-01':].plot(color='C7',ax=ax, label='train')\n",
    "\n",
    "test_df['streams'].plot(color='C0',ax=ax, label='test')\n",
    "forecast_df['streams'].plot(color='C1',ax=ax, label='forecast')\n",
    "plt.legend()\n",
    "plt.ylabel(\"Streams (in hundred thousands)\")"
   ]
  },
  {
   "cell_type": "code",
   "execution_count": null,
   "metadata": {
    "ExecuteTime": {
     "end_time": "2021-01-24T11:59:11.641850Z",
     "start_time": "2021-01-24T11:59:11.635609Z"
    }
   },
   "outputs": [],
   "source": [
    "#Error Metrics\n",
    "print(\"The RMSE is %0.2f\" % rmse(test_df['streams'],forecast_df['streams']))\n",
    "print(\"The MAE is %0.2f\" % meanabs(test_df['streams'],forecast_df['streams']))"
   ]
  },
  {
   "cell_type": "markdown",
   "metadata": {},
   "source": [
    "3. **Exponential Moving Average Approach**: The weighted average over the most recent days is the forecast value, where the weights are given by the following formula as set by a smoothing factor $\\alpha$\n",
    "\n",
    "![](https://miro.medium.com/max/1256/1*gzC8tdlwaLM3Y1tiaM3xzw.png)\n",
    "\n",
    " Larger $\\alpha$ values will assign larger weights to more recent dates."
   ]
  },
  {
   "cell_type": "code",
   "execution_count": null,
   "metadata": {
    "ExecuteTime": {
     "end_time": "2021-01-24T12:06:36.025085Z",
     "start_time": "2021-01-24T12:06:36.010461Z"
    }
   },
   "outputs": [],
   "source": [
    "# To simulate an EMA  forecast\n",
    "# use the pd.rolling grouper and pass the mean method\n",
    "# and shift 1 day ahead\n",
    "\n",
    "#Set window to 7 days\n",
    "forecast_df = data.ewm(alpha=0.7).mean().shift(1)['2020-10-01':'2020-12-31']\n",
    "forecast_df.head()"
   ]
  },
  {
   "cell_type": "code",
   "execution_count": null,
   "metadata": {
    "ExecuteTime": {
     "end_time": "2021-01-24T12:06:37.404851Z",
     "start_time": "2021-01-24T12:06:36.991611Z"
    }
   },
   "outputs": [],
   "source": [
    "#plot the forecast\n",
    "fig = plt.figure(figsize=(10,3))\n",
    "ax = fig.add_subplot(111)\n",
    "\n",
    "train_df['streams']['2020-07-01':].plot(color='C7',ax=ax, label='train')\n",
    "\n",
    "test_df['streams'].plot(color='C0',ax=ax, label='test')\n",
    "forecast_df['streams'].plot(color='C1',ax=ax, label='forecast')\n",
    "plt.legend()\n",
    "plt.ylabel(\"Streams (in hundred thousands)\")"
   ]
  },
  {
   "cell_type": "code",
   "execution_count": null,
   "metadata": {
    "ExecuteTime": {
     "end_time": "2021-01-24T12:06:37.495641Z",
     "start_time": "2021-01-24T12:06:37.489141Z"
    }
   },
   "outputs": [],
   "source": [
    "#Error Metrics\n",
    "print(\"The RMSE is %0.2f\" % rmse(test_df['streams'],forecast_df['streams']))\n",
    "print(\"The MAE is %0.2f\" % meanabs(test_df['streams'],forecast_df['streams']))"
   ]
  },
  {
   "cell_type": "markdown",
   "metadata": {},
   "source": [
    "4. **Stochastic Approaches**: \n",
    "\n",
    "A popular and frequently used stochastic (i.e. probabilistic \"randomness\" based models) time series model is the ARIMA model. It assumes that the time-series is linear and follows a particular known statistical distribution, such as the normal distribution, and has subclass of other models such as the Autoregressive (AR) model, the Moving average (MA) model, and the Autoregressive Moving Average (ARMA) model of which the ARIMA model was based on. \n",
    "\n",
    "An ARIMA model is usually written as ARIMA (p,d,q) \n",
    "\n",
    "![](https://miro.medium.com/max/875/1*J1cOKMRU17nr71T-Xx6_HQ.png)\n",
    "\n",
    "where: \n",
    "\n",
    "p = The order of the Autoregressive part of the model\n",
    "\n",
    "d= The degree of first differencing in our model\n",
    "\n",
    "q = The order of the Moving average part of the model\n",
    "\n",
    "The PACF can be used to determine how many AR terms you need to use to explain the autocorrelation pattern in a time series: if the partial autocorrelation is significant at lag k and not significant at any higher order lags — i.e., if the PACF “cuts off” at lag k — then this suggests that you should try fitting an autoregressive model of order k\n",
    "\n",
    "Meanwhile the ACF can be used to determine how many MA terms you need for a model. Another way to think about the moving average model is that it corrects future forecasts based on errors made on recent forecasts. We would expect the ACF for the MA(k) process to show a strong correlation with recent values up to the lag of k, then a sharp decline to low or no correlation. "
   ]
  },
  {
   "cell_type": "code",
   "execution_count": null,
   "metadata": {
    "ExecuteTime": {
     "end_time": "2021-01-24T12:21:02.625213Z",
     "start_time": "2021-01-24T12:21:02.622091Z"
    }
   },
   "outputs": [],
   "source": [
    "from statsmodels.tsa.arima.model import ARIMA"
   ]
  },
  {
   "cell_type": "code",
   "execution_count": null,
   "metadata": {
    "ExecuteTime": {
     "end_time": "2021-01-24T13:05:09.715559Z",
     "start_time": "2021-01-24T13:05:09.256569Z"
    }
   },
   "outputs": [],
   "source": [
    "#PACF\n",
    "fig = plt.figure(figsize=(10,6))\n",
    "ax1 = fig.add_subplot(211)\n",
    "ax2 = fig.add_subplot(212)\n",
    "\n",
    "acf = plot_acf(data1['streams'].interpolate().diff()[1:], lags=50, ax=ax1)\n",
    "pacf = plot_pacf(data1['streams'].interpolate().diff()[1:], lags=50, ax=ax2)"
   ]
  },
  {
   "cell_type": "code",
   "execution_count": null,
   "metadata": {
    "ExecuteTime": {
     "end_time": "2021-01-24T13:40:12.677630Z",
     "start_time": "2021-01-24T13:40:10.977900Z"
    }
   },
   "outputs": [],
   "source": [
    "model = ARIMA(train_df, order=(7, 1, 7))  \n",
    "model_fit = model.fit() \n"
   ]
  },
  {
   "cell_type": "code",
   "execution_count": null,
   "metadata": {
    "ExecuteTime": {
     "end_time": "2021-01-24T13:40:13.019635Z",
     "start_time": "2021-01-24T13:40:12.680742Z"
    }
   },
   "outputs": [],
   "source": [
    "#plot the fitted training data\n",
    "fig = plt.figure(figsize=(10,3))\n",
    "ax = fig.add_subplot(111)\n",
    "\n",
    "train_df['streams']['2020-07-01':].plot(color='C7',ax=ax, label='train')\n",
    "results.fittedvalues.plot(color='C8',ax=ax, label='fitted')\n",
    "\n",
    "plt.legend()\n",
    "plt.ylabel(\"Streams (in hundred thousands)\")"
   ]
  },
  {
   "cell_type": "code",
   "execution_count": null,
   "metadata": {
    "ExecuteTime": {
     "end_time": "2021-01-24T13:40:13.042510Z",
     "start_time": "2021-01-24T13:40:13.023222Z"
    }
   },
   "outputs": [],
   "source": [
    "#dynamic = True toggles use of preceding forecast value with the model fit values to get the next forecast value\n",
    "forecast_df = pd.DataFrame(model_fit.forecast(92,dynamic=True))\\\n",
    "                .rename(columns={'predicted_mean':'streams'})\n",
    "forecast_df.head()"
   ]
  },
  {
   "cell_type": "code",
   "execution_count": null,
   "metadata": {
    "ExecuteTime": {
     "end_time": "2021-01-24T13:40:13.457999Z",
     "start_time": "2021-01-24T13:40:13.045427Z"
    }
   },
   "outputs": [],
   "source": [
    "#plot the forecast\n",
    "fig = plt.figure(figsize=(10,3))\n",
    "ax = fig.add_subplot(111)\n",
    "\n",
    "train_df['streams']['2020-07-01':].plot(color='C7',ax=ax, label='train')\n",
    "\n",
    "test_df['streams'].plot(color='C0',ax=ax, label='test')\n",
    "forecast_df['streams'].plot(color='C1',ax=ax, label='forecast')\n",
    "plt.legend()\n",
    "plt.ylabel(\"Streams (in hundred thousands)\")"
   ]
  },
  {
   "cell_type": "code",
   "execution_count": null,
   "metadata": {
    "ExecuteTime": {
     "end_time": "2021-01-24T13:40:25.133452Z",
     "start_time": "2021-01-24T13:40:25.127871Z"
    }
   },
   "outputs": [],
   "source": [
    "#Error Metrics\n",
    "print(\"The RMSE is %0.2f\" % rmse(test_df['streams'],forecast_df['streams']))\n",
    "print(\"The MAE is %0.2f\" % meanabs(test_df['streams'],forecast_df['streams']))"
   ]
  },
  {
   "cell_type": "markdown",
   "metadata": {},
   "source": [
    "### Resources\n",
    "-  More about decomposing time series [here](https://machinelearningmastery.com/decompose-time-series-data-trend-seasonality/)\n",
    "-  Fundamental time series forecasting methods in more detail [here](https://www.analyticsvidhya.com/blog/2018/02/time-series-forecasting-methods/)\n",
    "-  ACF and PACF explained in more detail [here](https://machinelearningmastery.com/gentle-introduction-autocorrelation-partial-autocorrelation/)\n",
    "-  How to use PACF to tune ARIMA models [here](https://support.minitab.com/en-us/minitab/19/help-and-how-to/statistical-modeling/time-series/how-to/partial-autocorrelation/interpret-the-results/partial-autocorrelation-function-pacf/)\n"
   ]
  }
 ],
 "metadata": {
  "kernelspec": {
   "display_name": "Python 3",
   "language": "python",
   "name": "python3"
  },
  "language_info": {
   "codemirror_mode": {
    "name": "ipython",
    "version": 3
   },
   "file_extension": ".py",
   "mimetype": "text/x-python",
   "name": "python",
   "nbconvert_exporter": "python",
   "pygments_lexer": "ipython3",
   "version": "3.8.5"
  }
 },
 "nbformat": 4,
 "nbformat_minor": 2
}
