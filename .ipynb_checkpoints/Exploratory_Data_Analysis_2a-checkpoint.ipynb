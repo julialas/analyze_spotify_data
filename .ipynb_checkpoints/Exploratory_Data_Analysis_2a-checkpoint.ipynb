{
 "cells": [
  {
   "cell_type": "markdown",
   "metadata": {},
   "source": [
    "# Exploratory Data Analysis 2A\n",
    "## *Pandas Datetime Capabilities and Visualizations*"
   ]
  },
  {
   "cell_type": "markdown",
   "metadata": {},
   "source": [
    "#### The goal of EDA is to discover patterns in data. This is a fundamental stepping stone towards predictive modelling, or an end goal in itself. \n",
    "\n",
    "- Keep the questions SIMPLE and BRIEF- the goal is to understand and build complexity further on.\n",
    "- Its an iterative process-- its okay to repeat things so long as you learn from previous output."
   ]
  },
  {
   "cell_type": "code",
   "execution_count": null,
   "metadata": {
    "ExecuteTime": {
     "end_time": "2020-10-05T14:37:48.159250Z",
     "start_time": "2020-10-05T14:37:18.626220Z"
    }
   },
   "outputs": [],
   "source": [
    "# importing the libraries for data processing\n",
    "import numpy as np \n",
    "import pandas as pd \n",
    "\n",
    "#matplotlib for visualizations\n",
    "import matplotlib.pyplot as plt\n"
   ]
  },
  {
   "cell_type": "markdown",
   "metadata": {},
   "source": [
    "### 1. Data Preparation\n",
    "Merge the charts and the tracks datasets. Repeat the process from the previous notebook"
   ]
  },
  {
   "cell_type": "code",
   "execution_count": null,
   "metadata": {
    "ExecuteTime": {
     "end_time": "2020-10-05T14:37:49.593472Z",
     "start_time": "2020-10-05T14:37:48.167254Z"
    }
   },
   "outputs": [],
   "source": [
    "# read and process the charts dataset\n",
    "charts_df = pd.read_csv('data/spotify_daily_charts.csv')\n",
    "#transform date column into a datetime column\n",
    "charts_df['date'] = pd.to_datetime(charts_df['date'])\n",
    "charts_df.head()"
   ]
  },
  {
   "cell_type": "code",
   "execution_count": null,
   "metadata": {
    "ExecuteTime": {
     "end_time": "2020-10-05T14:37:49.865290Z",
     "start_time": "2020-10-05T14:37:49.605431Z"
    },
    "scrolled": true
   },
   "outputs": [],
   "source": [
    "# read and process the tracks dataset\n",
    "tracks_df = pd.read_csv('data/spotify_daily_charts_tracks.csv')\n",
    "tracks_df.head()"
   ]
  },
  {
   "cell_type": "markdown",
   "metadata": {},
   "source": [
    "View track feature distribution"
   ]
  },
  {
   "cell_type": "code",
   "execution_count": null,
   "metadata": {
    "ExecuteTime": {
     "end_time": "2020-10-05T14:37:50.998670Z",
     "start_time": "2020-10-05T14:37:49.876279Z"
    }
   },
   "outputs": [],
   "source": [
    "df = charts_df.merge(tracks_df, on='track_id', how='left')\n",
    "\n",
    "df = df.drop(columns='track_name_y')\n",
    "df = df.rename(columns={'track_name_x':'track_name'})\n",
    "\n",
    "df.head()"
   ]
  },
  {
   "cell_type": "markdown",
   "metadata": {},
   "source": [
    "### 2. Pandas Date Aggregation Capabilties"
   ]
  },
  {
   "cell_type": "markdown",
   "metadata": {},
   "source": [
    "##### 2.1. Resampling\n",
    "\n",
    "With a datetime object set as index, a pandas dataframe can be aggregated in time with one simple line!"
   ]
  },
  {
   "cell_type": "code",
   "execution_count": null,
   "metadata": {
    "ExecuteTime": {
     "end_time": "2020-10-03T16:58:53.851639Z",
     "start_time": "2020-10-03T16:58:53.711720Z"
    }
   },
   "outputs": [],
   "source": [
    "df = df.set_index('date')\n",
    "df.head()"
   ]
  },
  {
   "cell_type": "code",
   "execution_count": null,
   "metadata": {
    "ExecuteTime": {
     "end_time": "2020-10-03T16:58:54.074514Z",
     "start_time": "2020-10-03T16:58:53.854637Z"
    }
   },
   "outputs": [],
   "source": [
    "#get total monthly streams\n",
    "yr_df = df['streams'].resample('Y').sum() #M for month\n",
    "yr_df"
   ]
  },
  {
   "cell_type": "code",
   "execution_count": null,
   "metadata": {
    "ExecuteTime": {
     "end_time": "2020-10-03T16:58:54.826083Z",
     "start_time": "2020-10-03T16:58:54.078509Z"
    }
   },
   "outputs": [],
   "source": [
    "#bar chart of yearly streams\n",
    "fig= plt.figure(figsize=(8,6))\n",
    "ax = fig.add_subplot(111)\n",
    "yr_df.plot(ax=ax, kind='bar')\n",
    "\n",
    "#Uncomment for cleaner x labels\n",
    "ax.set_xticklabels([x.strftime('%Y') for x in yr_df.index], rotation=0)\n",
    "\n",
    "plt.xlabel('year')\n",
    "plt.ylabel('Streams (in billions)')\n",
    "plt.title('Spotify Yearly Total Streams')"
   ]
  },
  {
   "cell_type": "code",
   "execution_count": null,
   "metadata": {
    "ExecuteTime": {
     "end_time": "2020-10-03T16:58:54.874055Z",
     "start_time": "2020-10-03T16:58:54.831081Z"
    }
   },
   "outputs": [],
   "source": [
    "#get total monthly streams\n",
    "mon_df = df['streams'].resample('M').sum() #M for month\n",
    "mon_df"
   ]
  },
  {
   "cell_type": "code",
   "execution_count": null,
   "metadata": {
    "ExecuteTime": {
     "end_time": "2020-10-03T16:58:55.637620Z",
     "start_time": "2020-10-03T16:58:54.880055Z"
    }
   },
   "outputs": [],
   "source": [
    "#line chart of monthly streams\n",
    "\n",
    "fig= plt.figure(figsize=(8,6))\n",
    "ax = fig.add_subplot(111)\n",
    "#default is line so you can omit kind= parameter\n",
    "mon_df.plot(ax=ax, kind='line')\n",
    "\n",
    "#Uncomment for cleaner x labels\n",
    "#ax.set_xticklabels([x.strftime('%Y-%m') for x in mon_df.index])\n",
    "\n",
    "plt.ylabel('streams (in hundred millions)')\n",
    "plt.title('Spotify Monthly Total Streams')"
   ]
  },
  {
   "cell_type": "markdown",
   "metadata": {},
   "source": [
    "Q: Compute for the artist *BLACKPINK*'s total yearly streams from 2018-2020"
   ]
  },
  {
   "cell_type": "code",
   "execution_count": null,
   "metadata": {
    "ExecuteTime": {
     "end_time": "2020-10-03T16:58:55.715573Z",
     "start_time": "2020-10-03T16:58:55.645614Z"
    }
   },
   "outputs": [],
   "source": [
    "df[df['artist']=='BLACKPINK']['streams'].resample('Y').sum()"
   ]
  },
  {
   "cell_type": "markdown",
   "metadata": {},
   "source": [
    "https://pandas.pydata.org/pandas-docs/stable/reference/api/pandas.DataFrame.resample.html"
   ]
  },
  {
   "cell_type": "markdown",
   "metadata": {},
   "source": [
    "#### 2.2 First-Order differencing\n",
    "\n",
    "At times, we might be more interested in the change of a quantity in time rather than the absolute quantities. We use `df.diff()` for this"
   ]
  },
  {
   "cell_type": "code",
   "execution_count": null,
   "metadata": {
    "ExecuteTime": {
     "end_time": "2020-10-03T16:58:55.826511Z",
     "start_time": "2020-10-03T16:58:55.719571Z"
    }
   },
   "outputs": [],
   "source": [
    "# month - previous month\n",
    "delta_mon_df = mon_df.diff()\n",
    "delta_mon_df"
   ]
  },
  {
   "cell_type": "markdown",
   "metadata": {},
   "source": [
    "Q: How did Spotify streams grow month-on-month from 2018 to 2020?"
   ]
  },
  {
   "cell_type": "code",
   "execution_count": null,
   "metadata": {
    "ExecuteTime": {
     "end_time": "2020-10-03T16:58:56.748986Z",
     "start_time": "2020-10-03T16:58:55.832508Z"
    }
   },
   "outputs": [],
   "source": [
    "#line chart of monthly streams\n",
    "\n",
    "fig= plt.figure(figsize=(8,6))\n",
    "ax = fig.add_subplot(111)\n",
    "#default is line so you can omit kind= parameter\n",
    "#omit incomplete month\n",
    "delta_mon_df[:-1].plot(ax=ax)\n",
    "\n",
    "#Uncomment for cleaner x labels\n",
    "#ax.set_xticklabels([x.strftime('%Y-%m') for x in mon_df.index])\n",
    "\n",
    "#add reference line at y=0\n",
    "plt.axhline(0, color='k', ls='--')\n",
    "\n",
    "plt.ylabel('streams (in hundred millions)')\n",
    "plt.title('Spotify Month-on-Month Stream Growth')"
   ]
  },
  {
   "cell_type": "markdown",
   "metadata": {},
   "source": [
    "> Q: Can you show the above month-on-month growth plot as a percentage of the previous month?"
   ]
  },
  {
   "cell_type": "markdown",
   "metadata": {},
   "source": [
    "#### 2.3 Cummulative sum\n",
    "\n",
    "We compute for the cummulative sum using `df.cumsum()`"
   ]
  },
  {
   "cell_type": "code",
   "execution_count": null,
   "metadata": {
    "ExecuteTime": {
     "end_time": "2020-10-03T16:58:56.764975Z",
     "start_time": "2020-10-03T16:58:56.752981Z"
    },
    "scrolled": true
   },
   "outputs": [],
   "source": [
    "#get cummulative total spotify monthly streams\n",
    "mon_df.cumsum()"
   ]
  },
  {
   "cell_type": "markdown",
   "metadata": {},
   "source": [
    "Q: Compute for the cummulative total monthly streams of Ben and Ben's 'Kathang Isip' "
   ]
  },
  {
   "cell_type": "code",
   "execution_count": null,
   "metadata": {
    "ExecuteTime": {
     "end_time": "2020-10-03T16:58:56.956866Z",
     "start_time": "2020-10-03T16:58:56.767974Z"
    },
    "scrolled": true
   },
   "outputs": [],
   "source": [
    "df[df['track_name']=='Kathang Isip']['streams'].resample('M').sum().cumsum()"
   ]
  },
  {
   "cell_type": "code",
   "execution_count": null,
   "metadata": {
    "ExecuteTime": {
     "end_time": "2020-10-03T16:58:57.719429Z",
     "start_time": "2020-10-03T16:58:56.959863Z"
    }
   },
   "outputs": [],
   "source": [
    "#line chart of monthly streams\n",
    "\n",
    "fig= plt.figure(figsize=(8,6))\n",
    "ax = fig.add_subplot(111)\n",
    "#default is line so you can omit kind= parameter\n",
    "data = df[df['track_name']=='Kathang Isip']['streams'].resample('M').sum().cumsum()\n",
    "\n",
    "data.plot(ax=ax,marker='o')\n",
    "#Uncomment for cleaner x labels\n",
    "#ax.set_xticklabels([x.strftime('%Y-%m') for x in mon_df.index])\n",
    "\n",
    "plt.ylabel('streams (in hundred millions)')\n",
    "plt.title('Spotify Monthly Total Streams')"
   ]
  },
  {
   "cell_type": "markdown",
   "metadata": {},
   "source": [
    "Q: How does the cummulative total monthly streams of Ed Sheeran's Shape of You compare with  Ben and Ben's 'Kathang Isip' ?"
   ]
  },
  {
   "cell_type": "code",
   "execution_count": null,
   "metadata": {
    "ExecuteTime": {
     "end_time": "2020-10-03T16:58:58.501983Z",
     "start_time": "2020-10-03T16:58:57.723427Z"
    }
   },
   "outputs": [],
   "source": [
    "#line chart of monthly streams\n",
    "\n",
    "fig= plt.figure(figsize=(8,6))\n",
    "ax = fig.add_subplot(111)\n",
    "#default is line so you can omit kind= parameter\n",
    "data1 = df[df['track_name']=='Kathang Isip']['streams'].resample('M').sum().cumsum()\n",
    "data2 = df[df['track_name']=='Shape of You']['streams'].resample('M').sum().cumsum()\n",
    "\n",
    "data1.plot(ax=ax, label='Ben&Ben- Kathang isip')\n",
    "data2.plot(ax=ax, label='Ed Sheeran- Shape of You')\n",
    "#Uncomment for cleaner x labels\n",
    "#ax.set_xticklabels([x.strftime('%Y-%m') for x in mon_df.index])\n",
    "\n",
    "plt.legend()\n",
    "plt.ylabel('streams (in hundred millions)')\n",
    "plt.title('Spotify Monthly Total Streams')"
   ]
  },
  {
   "cell_type": "markdown",
   "metadata": {
    "ExecuteTime": {
     "end_time": "2020-09-30T17:19:03.227950Z",
     "start_time": "2020-09-30T17:19:03.207963Z"
    }
   },
   "source": [
    "#### 2.4 Rolling window\n",
    "\n",
    "We can use the function `.rolling()` to define a time series window where we could aggregate the target variable"
   ]
  },
  {
   "cell_type": "markdown",
   "metadata": {},
   "source": [
    "Q: Smooth out daily streams of Ben and Ben's Kathang Isip over a 1-week window"
   ]
  },
  {
   "cell_type": "code",
   "execution_count": null,
   "metadata": {
    "ExecuteTime": {
     "end_time": "2020-10-03T16:58:58.597928Z",
     "start_time": "2020-10-03T16:58:58.505980Z"
    }
   },
   "outputs": [],
   "source": [
    "df[df['track_name']=='Kathang Isip']['streams'].rolling(7).mean()"
   ]
  },
  {
   "cell_type": "code",
   "execution_count": null,
   "metadata": {
    "ExecuteTime": {
     "end_time": "2020-10-03T16:58:59.550385Z",
     "start_time": "2020-10-03T16:58:58.600926Z"
    }
   },
   "outputs": [],
   "source": [
    "fig = plt.figure(figsize=(13,4))\n",
    "ax = fig.add_subplot(111)\n",
    "\n",
    "data1 = df[df['track_name']=='Kathang Isip']['streams']\n",
    "data2 = df[df['track_name']=='Kathang Isip']['streams'].rolling(7).mean()\n",
    "\n",
    "data1.plot(ax=ax, label='raw')\n",
    "data2.plot(ax=ax, label='smoothed')\n",
    "\n",
    "plt.legend()\n",
    "plt.ylabel('streams')\n",
    "plt.title('Spotify Daily Streams: Ben&Ben- Kathang isip')\n"
   ]
  },
  {
   "cell_type": "markdown",
   "metadata": {},
   "source": [
    "Q: Compare the 7-day smoothed daily streams of Ben and Ben's Kathang Isip and Taylor Swift's Lover"
   ]
  },
  {
   "cell_type": "code",
   "execution_count": null,
   "metadata": {
    "ExecuteTime": {
     "end_time": "2020-10-03T16:59:00.301954Z",
     "start_time": "2020-10-03T16:58:59.554383Z"
    }
   },
   "outputs": [],
   "source": [
    "fig = plt.figure(figsize=(13,4))\n",
    "ax = fig.add_subplot(111)\n",
    "\n",
    "data1 = df[df['track_name']=='Kathang Isip']['streams'].rolling(7).mean()\n",
    "data2 = df[df['track_name']=='Lover']['streams'].rolling(7).mean()\n",
    "\n",
    "data1.plot(ax=ax, label='Ben&Ben- Kathang isip')\n",
    "data2.plot(ax=ax, label='Taylor Swift- Lover')\n",
    "\n",
    "plt.legend()\n",
    "plt.ylabel('streams')\n",
    "plt.title('Spotify Daily Streams')\n"
   ]
  },
  {
   "cell_type": "markdown",
   "metadata": {},
   "source": [
    "Q: Compare the 7-day top chart **position** for Ben and Ben and Ariana Grande"
   ]
  },
  {
   "cell_type": "code",
   "execution_count": null,
   "metadata": {
    "ExecuteTime": {
     "end_time": "2020-10-03T17:10:10.764980Z",
     "start_time": "2020-10-03T17:10:10.001415Z"
    },
    "scrolled": true
   },
   "outputs": [],
   "source": [
    "fig = plt.figure(figsize=(13,4))\n",
    "ax = fig.add_subplot(111)\n",
    "\n",
    "#get top position of all charting songs of the artist per day\n",
    "data1 = df[df['artist']=='Ben&Ben'].groupby('date')[['position']].min()\n",
    "#get rolling 7 day minimum of top daily positions\n",
    "data1 = data1.rolling(7).min()\n",
    "data2 = df[df['artist']=='Ariana Grande'].groupby('date')[['position']].min()\n",
    "data2 = data2.rolling(7).min()\n",
    "\n",
    "data1.plot(ax=ax, label='Ben&Ben')\n",
    "data2.plot(ax=ax, label='Ariana Grande')\n",
    "\n",
    "#reverse the yaxis to show 1 on top\n",
    "plt.ylim([200,0])\n",
    "plt.yticks([1]+np.arange(25,201,25).tolist())\n",
    "\n",
    "plt.legend()\n",
    "plt.ylabel('Chart Position')\n",
    "plt.title('Spotify Weekly Top Chart Positions')\n"
   ]
  },
  {
   "cell_type": "markdown",
   "metadata": {},
   "source": [
    "### 4. Interactive Time-Series plot in Bokeh\n"
   ]
  },
  {
   "cell_type": "code",
   "execution_count": null,
   "metadata": {
    "ExecuteTime": {
     "end_time": "2020-10-03T17:01:36.185913Z",
     "start_time": "2020-10-03T17:01:34.209040Z"
    }
   },
   "outputs": [],
   "source": [
    "# Standard imports \n",
    "from bokeh.io import output_notebook, show\n",
    "from bokeh.plotting import figure\n",
    "output_notebook()"
   ]
  },
  {
   "cell_type": "markdown",
   "metadata": {},
   "source": [
    "Convert the above plots into Bokeh charts"
   ]
  },
  {
   "cell_type": "code",
   "execution_count": null,
   "metadata": {
    "ExecuteTime": {
     "end_time": "2020-10-03T18:21:23.728245Z",
     "start_time": "2020-10-03T18:21:23.247519Z"
    },
    "scrolled": true
   },
   "outputs": [],
   "source": [
    "#Simple time series plot with selectable legend\n",
    "from bokeh.models import Range1d\n",
    "\n",
    "data1 = df[df['artist']=='Ben&Ben'].groupby('date')[['position']].min()\n",
    "data1 = data1.rolling(7).min()\n",
    "data2 = df[df['artist']=='Ariana Grande'].groupby('date')[['position']].min()\n",
    "data2 = data2.rolling(7).min()\n",
    "\n",
    "p = figure(x_axis_type=\"datetime\", title=\"Spotify Daily Charts\", plot_height=350, plot_width=800)\n",
    "p.xgrid.grid_line_color=None\n",
    "p.ygrid.grid_line_alpha=0.5\n",
    "p.xaxis.axis_label = 'date'\n",
    "p.yaxis.axis_label = 'Position'\n",
    "p.y_range.flipped = True\n",
    "p.y_range=Range1d(200,0.5)\n",
    "\n",
    "p.yaxis.ticker = [1,50,100,150,200]\n",
    "#p.xaxis.major_label_overrides = {1: 'A', 2: 'B', 3: 'C'}\n",
    "\n",
    "#add .flatten() to y-values to deal with rolling window value nesting\n",
    "p.line(data1.index, data1.values.flatten(), color='blue',legend_label=\"Ben&Ben\")\n",
    "p.line(data2.index, data2.values.flatten(), color='orange', legend_label=\"Ariana Grande\")\n",
    "\n",
    "p.legend.location = \"bottom_right\"\n",
    "p.legend.click_policy=\"hide\"\n",
    "\n",
    "show(p)"
   ]
  },
  {
   "cell_type": "code",
   "execution_count": null,
   "metadata": {
    "ExecuteTime": {
     "end_time": "2020-10-03T18:35:22.577089Z",
     "start_time": "2020-10-03T18:35:21.973431Z"
    }
   },
   "outputs": [],
   "source": [
    "#Simple time series plot with selectable legend and hover output\n",
    "\n",
    "from bokeh.models import Range1d\n",
    "from bokeh.models.tools import HoverTool\n",
    "\n",
    "data1 = df[df['artist']=='Ben&Ben'].groupby('date')[['position']].min()\n",
    "data1 = data1.rolling(7).min()\n",
    "#data1['artist']='Ben&Ben'\n",
    "data2 = df[df['artist']=='Ariana Grande'].groupby('date')[['position']].min()\n",
    "data2 = data2.rolling(7).min()\n",
    "#data2['artist']='Ariana Grande'\n",
    "\n",
    "p = figure(x_axis_type=\"datetime\", title=\"Spotify Daily Charts\", plot_height=350, plot_width=800)\n",
    "p.xgrid.grid_line_color=None\n",
    "p.ygrid.grid_line_alpha=0.5\n",
    "p.xaxis.axis_label = 'date'\n",
    "p.yaxis.axis_label = 'Position'\n",
    "p.y_range.flipped = True\n",
    "p.y_range=Range1d(200,0.5)\n",
    "\n",
    "p.yaxis.ticker = [1,50,100,150,200]\n",
    "#p.xaxis.major_label_overrides = {1: 'A', 2: 'B', 3: 'C'}\n",
    "\n",
    "#add .flatten() to y-values to deal with rolling window value nesting\n",
    "p.line(data1.index, data1.values.flatten(), color='blue',legend_label=\"Ben&Ben\")\n",
    "p.line(data2.index, data2.values.flatten(), color='orange', legend_label=\"Ariana Grande\")\n",
    "\n",
    "p.legend.location = \"bottom_right\"\n",
    "p.legend.click_policy=\"hide\"\n",
    "\n",
    "#add hover tool\n",
    "p.add_tools(HoverTool(\n",
    "    tooltips=[\n",
    "        ('date', '@x{%F}'),\n",
    "        ('position','@y')\n",
    "    ],\n",
    "    formatters={\n",
    "        '@x' : 'datetime',\n",
    "    }\n",
    "))\n",
    "\n",
    "show(p)"
   ]
  }
 ],
 "metadata": {
  "kernelspec": {
   "display_name": "Python 3",
   "language": "python",
   "name": "python3"
  },
  "language_info": {
   "codemirror_mode": {
    "name": "ipython",
    "version": 3
   },
   "file_extension": ".py",
   "mimetype": "text/x-python",
   "name": "python",
   "nbconvert_exporter": "python",
   "pygments_lexer": "ipython3",
   "version": "3.7.3"
  }
 },
 "nbformat": 4,
 "nbformat_minor": 2
}
