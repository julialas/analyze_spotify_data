{
 "cells": [
  {
   "cell_type": "markdown",
   "metadata": {},
   "source": [
    "# Linear Regression using the Spotify Track Dataset"
   ]
  },
  {
   "cell_type": "markdown",
   "metadata": {},
   "source": [
    "The dataset `spotify_track_data_top50_ph.zip` contains of all songs that appeared in the Spotify Regional Chart Top 50 for the Philippines from 2017. It is extracted from https://www.kaggle.com/jcacperalta/spotify-daily-top-200-ph#spotify_top200_tracks_ph.csv\n",
    "\n",
    "Can you build a linear model to predict a song's popularity using the metrics provided as features?\n",
    "\n",
    "The relevant metrics are 'popularity', 'danceability', 'energy','loudness','speechiness', 'acousticness', 'instrumentalness',\n",
    " 'liveness', 'valence', and 'tempo'"
   ]
  },
  {
   "cell_type": "code",
   "execution_count": 101,
   "metadata": {
    "ExecuteTime": {
     "end_time": "2020-06-02T06:43:06.394295Z",
     "start_time": "2020-06-02T06:43:06.339326Z"
    }
   },
   "outputs": [],
   "source": [
    "import numpy as np\n",
    "import pandas as pd\n",
    "import matplotlib.pyplot as plt\n",
    "import seaborn as sns\n",
    "\n",
    "%matplotlib inline"
   ]
  },
  {
   "cell_type": "code",
   "execution_count": 102,
   "metadata": {
    "ExecuteTime": {
     "end_time": "2020-06-02T06:43:06.762084Z",
     "start_time": "2020-06-02T06:43:06.409291Z"
    }
   },
   "outputs": [
    {
     "data": {
      "text/html": [
       "<div>\n",
       "<style scoped>\n",
       "    .dataframe tbody tr th:only-of-type {\n",
       "        vertical-align: middle;\n",
       "    }\n",
       "\n",
       "    .dataframe tbody tr th {\n",
       "        vertical-align: top;\n",
       "    }\n",
       "\n",
       "    .dataframe thead th {\n",
       "        text-align: right;\n",
       "    }\n",
       "</style>\n",
       "<table border=\"1\" class=\"dataframe\">\n",
       "  <thead>\n",
       "    <tr style=\"text-align: right;\">\n",
       "      <th></th>\n",
       "      <th>track_id</th>\n",
       "      <th>track_name</th>\n",
       "      <th>artist_id</th>\n",
       "      <th>album_id</th>\n",
       "      <th>duration</th>\n",
       "      <th>release_date</th>\n",
       "      <th>popularity</th>\n",
       "      <th>danceability</th>\n",
       "      <th>energy</th>\n",
       "      <th>key</th>\n",
       "      <th>...</th>\n",
       "      <th>speechiness</th>\n",
       "      <th>acousticness</th>\n",
       "      <th>instrumentalness</th>\n",
       "      <th>liveness</th>\n",
       "      <th>valence</th>\n",
       "      <th>tempo</th>\n",
       "      <th>duration_mins</th>\n",
       "      <th>release_year</th>\n",
       "      <th>release_month</th>\n",
       "      <th>release_day</th>\n",
       "    </tr>\n",
       "  </thead>\n",
       "  <tbody>\n",
       "    <tr>\n",
       "      <th>0</th>\n",
       "      <td>0kN8xEmgMW9mh7UmDYHlJP</td>\n",
       "      <td>Versace on the Floor</td>\n",
       "      <td>0du5cEVh5yTK9QJze8zA0C</td>\n",
       "      <td>4PgleR09JVnm3zY1fW3XBA</td>\n",
       "      <td>261240</td>\n",
       "      <td>11/17/2016</td>\n",
       "      <td>75</td>\n",
       "      <td>0.578</td>\n",
       "      <td>0.574</td>\n",
       "      <td>2</td>\n",
       "      <td>...</td>\n",
       "      <td>0.0454</td>\n",
       "      <td>0.196</td>\n",
       "      <td>0.00000</td>\n",
       "      <td>0.0830</td>\n",
       "      <td>0.301</td>\n",
       "      <td>174.152</td>\n",
       "      <td>4.354000</td>\n",
       "      <td>2016</td>\n",
       "      <td>11.0</td>\n",
       "      <td>17.0</td>\n",
       "    </tr>\n",
       "    <tr>\n",
       "      <th>1</th>\n",
       "      <td>5uCax9HTNlzGybIStD3vDh</td>\n",
       "      <td>Say You Won't Let Go</td>\n",
       "      <td>4IWBUUAFIplrNtaOHcJPRM</td>\n",
       "      <td>7oiJYvEJHsmYtrgviAVIBD</td>\n",
       "      <td>211466</td>\n",
       "      <td>10/28/2016</td>\n",
       "      <td>85</td>\n",
       "      <td>0.358</td>\n",
       "      <td>0.557</td>\n",
       "      <td>10</td>\n",
       "      <td>...</td>\n",
       "      <td>0.0590</td>\n",
       "      <td>0.695</td>\n",
       "      <td>0.00000</td>\n",
       "      <td>0.0902</td>\n",
       "      <td>0.494</td>\n",
       "      <td>85.043</td>\n",
       "      <td>3.524433</td>\n",
       "      <td>2016</td>\n",
       "      <td>10.0</td>\n",
       "      <td>28.0</td>\n",
       "    </tr>\n",
       "    <tr>\n",
       "      <th>2</th>\n",
       "      <td>7BKLCZ1jbUBVqRi2FVlTVw</td>\n",
       "      <td>Closer</td>\n",
       "      <td>69GGBxA162lTqCwzJG5jLp</td>\n",
       "      <td>0rSLgV8p5FzfnqlEk4GzxE</td>\n",
       "      <td>244960</td>\n",
       "      <td>7/29/2016</td>\n",
       "      <td>84</td>\n",
       "      <td>0.748</td>\n",
       "      <td>0.524</td>\n",
       "      <td>8</td>\n",
       "      <td>...</td>\n",
       "      <td>0.0338</td>\n",
       "      <td>0.414</td>\n",
       "      <td>0.00000</td>\n",
       "      <td>0.1110</td>\n",
       "      <td>0.661</td>\n",
       "      <td>95.010</td>\n",
       "      <td>4.082667</td>\n",
       "      <td>2016</td>\n",
       "      <td>7.0</td>\n",
       "      <td>29.0</td>\n",
       "    </tr>\n",
       "    <tr>\n",
       "      <th>3</th>\n",
       "      <td>2rizacJSyD9S1IQUxUxnsK</td>\n",
       "      <td>All We Know</td>\n",
       "      <td>69GGBxA162lTqCwzJG5jLp</td>\n",
       "      <td>0xmaV6EtJ4M3ebZUPRnhyb</td>\n",
       "      <td>194080</td>\n",
       "      <td>9/29/2016</td>\n",
       "      <td>69</td>\n",
       "      <td>0.662</td>\n",
       "      <td>0.586</td>\n",
       "      <td>0</td>\n",
       "      <td>...</td>\n",
       "      <td>0.0307</td>\n",
       "      <td>0.097</td>\n",
       "      <td>0.00272</td>\n",
       "      <td>0.1150</td>\n",
       "      <td>0.296</td>\n",
       "      <td>90.000</td>\n",
       "      <td>3.234667</td>\n",
       "      <td>2016</td>\n",
       "      <td>9.0</td>\n",
       "      <td>29.0</td>\n",
       "    </tr>\n",
       "    <tr>\n",
       "      <th>4</th>\n",
       "      <td>5MFzQMkrl1FOOng9tq6R9r</td>\n",
       "      <td>Don't Wanna Know</td>\n",
       "      <td>04gDigrS5kc9YWfZHwBETP</td>\n",
       "      <td>0fvTn3WXF39kQs9i3bnNpP</td>\n",
       "      <td>214480</td>\n",
       "      <td>10/11/2016</td>\n",
       "      <td>14</td>\n",
       "      <td>0.783</td>\n",
       "      <td>0.623</td>\n",
       "      <td>7</td>\n",
       "      <td>...</td>\n",
       "      <td>0.0800</td>\n",
       "      <td>0.338</td>\n",
       "      <td>0.00000</td>\n",
       "      <td>0.0975</td>\n",
       "      <td>0.447</td>\n",
       "      <td>100.048</td>\n",
       "      <td>3.574667</td>\n",
       "      <td>2016</td>\n",
       "      <td>10.0</td>\n",
       "      <td>11.0</td>\n",
       "    </tr>\n",
       "  </tbody>\n",
       "</table>\n",
       "<p>5 rows × 22 columns</p>\n",
       "</div>"
      ],
      "text/plain": [
       "                 track_id            track_name               artist_id  \\\n",
       "0  0kN8xEmgMW9mh7UmDYHlJP  Versace on the Floor  0du5cEVh5yTK9QJze8zA0C   \n",
       "1  5uCax9HTNlzGybIStD3vDh  Say You Won't Let Go  4IWBUUAFIplrNtaOHcJPRM   \n",
       "2  7BKLCZ1jbUBVqRi2FVlTVw                Closer  69GGBxA162lTqCwzJG5jLp   \n",
       "3  2rizacJSyD9S1IQUxUxnsK           All We Know  69GGBxA162lTqCwzJG5jLp   \n",
       "4  5MFzQMkrl1FOOng9tq6R9r      Don't Wanna Know  04gDigrS5kc9YWfZHwBETP   \n",
       "\n",
       "                 album_id  duration release_date  popularity  danceability  \\\n",
       "0  4PgleR09JVnm3zY1fW3XBA    261240   11/17/2016          75         0.578   \n",
       "1  7oiJYvEJHsmYtrgviAVIBD    211466   10/28/2016          85         0.358   \n",
       "2  0rSLgV8p5FzfnqlEk4GzxE    244960    7/29/2016          84         0.748   \n",
       "3  0xmaV6EtJ4M3ebZUPRnhyb    194080    9/29/2016          69         0.662   \n",
       "4  0fvTn3WXF39kQs9i3bnNpP    214480   10/11/2016          14         0.783   \n",
       "\n",
       "   energy  key  ...  speechiness  acousticness  instrumentalness  liveness  \\\n",
       "0   0.574    2  ...       0.0454         0.196           0.00000    0.0830   \n",
       "1   0.557   10  ...       0.0590         0.695           0.00000    0.0902   \n",
       "2   0.524    8  ...       0.0338         0.414           0.00000    0.1110   \n",
       "3   0.586    0  ...       0.0307         0.097           0.00272    0.1150   \n",
       "4   0.623    7  ...       0.0800         0.338           0.00000    0.0975   \n",
       "\n",
       "   valence    tempo  duration_mins  release_year  release_month  release_day  \n",
       "0    0.301  174.152       4.354000          2016           11.0         17.0  \n",
       "1    0.494   85.043       3.524433          2016           10.0         28.0  \n",
       "2    0.661   95.010       4.082667          2016            7.0         29.0  \n",
       "3    0.296   90.000       3.234667          2016            9.0         29.0  \n",
       "4    0.447  100.048       3.574667          2016           10.0         11.0  \n",
       "\n",
       "[5 rows x 22 columns]"
      ]
     },
     "execution_count": 102,
     "metadata": {},
     "output_type": "execute_result"
    }
   ],
   "source": [
    "df = pd.read_csv('data/spotify_daily_charts_tracks.csv')\n",
    "df.head()"
   ]
  },
  {
   "cell_type": "code",
   "execution_count": 103,
   "metadata": {
    "ExecuteTime": {
     "end_time": "2020-06-02T06:43:06.832044Z",
     "start_time": "2020-06-02T06:43:06.776078Z"
    }
   },
   "outputs": [
    {
     "name": "stdout",
     "output_type": "stream",
     "text": [
      "<class 'pandas.core.frame.DataFrame'>\n",
      "RangeIndex: 951 entries, 0 to 950\n",
      "Data columns (total 22 columns):\n",
      "track_id            951 non-null object\n",
      "track_name          951 non-null object\n",
      "artist_id           951 non-null object\n",
      "album_id            951 non-null object\n",
      "duration            951 non-null int64\n",
      "release_date        951 non-null object\n",
      "popularity          951 non-null int64\n",
      "danceability        951 non-null float64\n",
      "energy              951 non-null float64\n",
      "key                 951 non-null int64\n",
      "loudness            951 non-null float64\n",
      "mode                951 non-null int64\n",
      "speechiness         951 non-null float64\n",
      "acousticness        951 non-null float64\n",
      "instrumentalness    951 non-null float64\n",
      "liveness            951 non-null float64\n",
      "valence             951 non-null float64\n",
      "tempo               951 non-null float64\n",
      "duration_mins       951 non-null float64\n",
      "release_year        951 non-null int64\n",
      "release_month       941 non-null float64\n",
      "release_day         941 non-null float64\n",
      "dtypes: float64(12), int64(5), object(5)\n",
      "memory usage: 163.6+ KB\n"
     ]
    }
   ],
   "source": [
    "df.info()"
   ]
  },
  {
   "cell_type": "code",
   "execution_count": 104,
   "metadata": {
    "ExecuteTime": {
     "end_time": "2020-06-02T06:43:06.923991Z",
     "start_time": "2020-06-02T06:43:06.846036Z"
    }
   },
   "outputs": [
    {
     "data": {
      "text/plain": [
       "951"
      ]
     },
     "execution_count": 104,
     "metadata": {},
     "output_type": "execute_result"
    }
   ],
   "source": [
    "# remove null\n",
    "df = df[~df['track_name'].isnull()]\n",
    "len(df)"
   ]
  },
  {
   "cell_type": "code",
   "execution_count": 105,
   "metadata": {
    "ExecuteTime": {
     "end_time": "2020-06-02T06:43:07.139868Z",
     "start_time": "2020-06-02T06:43:06.934985Z"
    }
   },
   "outputs": [
    {
     "data": {
      "text/html": [
       "<div>\n",
       "<style scoped>\n",
       "    .dataframe tbody tr th:only-of-type {\n",
       "        vertical-align: middle;\n",
       "    }\n",
       "\n",
       "    .dataframe tbody tr th {\n",
       "        vertical-align: top;\n",
       "    }\n",
       "\n",
       "    .dataframe thead th {\n",
       "        text-align: right;\n",
       "    }\n",
       "</style>\n",
       "<table border=\"1\" class=\"dataframe\">\n",
       "  <thead>\n",
       "    <tr style=\"text-align: right;\">\n",
       "      <th></th>\n",
       "      <th>popularity</th>\n",
       "      <th>danceability</th>\n",
       "      <th>energy</th>\n",
       "      <th>loudness</th>\n",
       "      <th>speechiness</th>\n",
       "      <th>acousticness</th>\n",
       "      <th>instrumentalness</th>\n",
       "      <th>liveness</th>\n",
       "      <th>valence</th>\n",
       "      <th>tempo</th>\n",
       "    </tr>\n",
       "  </thead>\n",
       "  <tbody>\n",
       "    <tr>\n",
       "      <th>0</th>\n",
       "      <td>75</td>\n",
       "      <td>0.578</td>\n",
       "      <td>0.574</td>\n",
       "      <td>-6.209</td>\n",
       "      <td>0.0454</td>\n",
       "      <td>0.196</td>\n",
       "      <td>0.00000</td>\n",
       "      <td>0.0830</td>\n",
       "      <td>0.301</td>\n",
       "      <td>174.152</td>\n",
       "    </tr>\n",
       "    <tr>\n",
       "      <th>1</th>\n",
       "      <td>85</td>\n",
       "      <td>0.358</td>\n",
       "      <td>0.557</td>\n",
       "      <td>-7.398</td>\n",
       "      <td>0.0590</td>\n",
       "      <td>0.695</td>\n",
       "      <td>0.00000</td>\n",
       "      <td>0.0902</td>\n",
       "      <td>0.494</td>\n",
       "      <td>85.043</td>\n",
       "    </tr>\n",
       "    <tr>\n",
       "      <th>2</th>\n",
       "      <td>84</td>\n",
       "      <td>0.748</td>\n",
       "      <td>0.524</td>\n",
       "      <td>-5.599</td>\n",
       "      <td>0.0338</td>\n",
       "      <td>0.414</td>\n",
       "      <td>0.00000</td>\n",
       "      <td>0.1110</td>\n",
       "      <td>0.661</td>\n",
       "      <td>95.010</td>\n",
       "    </tr>\n",
       "    <tr>\n",
       "      <th>3</th>\n",
       "      <td>69</td>\n",
       "      <td>0.662</td>\n",
       "      <td>0.586</td>\n",
       "      <td>-8.821</td>\n",
       "      <td>0.0307</td>\n",
       "      <td>0.097</td>\n",
       "      <td>0.00272</td>\n",
       "      <td>0.1150</td>\n",
       "      <td>0.296</td>\n",
       "      <td>90.000</td>\n",
       "    </tr>\n",
       "    <tr>\n",
       "      <th>4</th>\n",
       "      <td>14</td>\n",
       "      <td>0.783</td>\n",
       "      <td>0.623</td>\n",
       "      <td>-6.126</td>\n",
       "      <td>0.0800</td>\n",
       "      <td>0.338</td>\n",
       "      <td>0.00000</td>\n",
       "      <td>0.0975</td>\n",
       "      <td>0.447</td>\n",
       "      <td>100.048</td>\n",
       "    </tr>\n",
       "  </tbody>\n",
       "</table>\n",
       "</div>"
      ],
      "text/plain": [
       "   popularity  danceability  energy  loudness  speechiness  acousticness  \\\n",
       "0          75         0.578   0.574    -6.209       0.0454         0.196   \n",
       "1          85         0.358   0.557    -7.398       0.0590         0.695   \n",
       "2          84         0.748   0.524    -5.599       0.0338         0.414   \n",
       "3          69         0.662   0.586    -8.821       0.0307         0.097   \n",
       "4          14         0.783   0.623    -6.126       0.0800         0.338   \n",
       "\n",
       "   instrumentalness  liveness  valence    tempo  \n",
       "0           0.00000    0.0830    0.301  174.152  \n",
       "1           0.00000    0.0902    0.494   85.043  \n",
       "2           0.00000    0.1110    0.661   95.010  \n",
       "3           0.00272    0.1150    0.296   90.000  \n",
       "4           0.00000    0.0975    0.447  100.048  "
      ]
     },
     "execution_count": 105,
     "metadata": {},
     "output_type": "execute_result"
    }
   ],
   "source": [
    "#filter unnecessary fields\n",
    "df =df[['popularity', 'danceability', 'energy',\n",
    "       'loudness','speechiness', 'acousticness', 'instrumentalness',\n",
    "       'liveness', 'valence', 'tempo']]\n",
    "df.head()"
   ]
  },
  {
   "cell_type": "markdown",
   "metadata": {},
   "source": [
    "### 1. Explore the dataset"
   ]
  },
  {
   "cell_type": "code",
   "execution_count": 106,
   "metadata": {
    "ExecuteTime": {
     "end_time": "2020-06-02T06:43:07.456686Z",
     "start_time": "2020-06-02T06:43:07.152860Z"
    },
    "scrolled": true
   },
   "outputs": [
    {
     "data": {
      "text/html": [
       "<div>\n",
       "<style scoped>\n",
       "    .dataframe tbody tr th:only-of-type {\n",
       "        vertical-align: middle;\n",
       "    }\n",
       "\n",
       "    .dataframe tbody tr th {\n",
       "        vertical-align: top;\n",
       "    }\n",
       "\n",
       "    .dataframe thead th {\n",
       "        text-align: right;\n",
       "    }\n",
       "</style>\n",
       "<table border=\"1\" class=\"dataframe\">\n",
       "  <thead>\n",
       "    <tr style=\"text-align: right;\">\n",
       "      <th></th>\n",
       "      <th>popularity</th>\n",
       "      <th>danceability</th>\n",
       "      <th>energy</th>\n",
       "      <th>loudness</th>\n",
       "      <th>speechiness</th>\n",
       "      <th>acousticness</th>\n",
       "      <th>instrumentalness</th>\n",
       "      <th>liveness</th>\n",
       "      <th>valence</th>\n",
       "      <th>tempo</th>\n",
       "    </tr>\n",
       "  </thead>\n",
       "  <tbody>\n",
       "    <tr>\n",
       "      <th>count</th>\n",
       "      <td>951.000000</td>\n",
       "      <td>951.000000</td>\n",
       "      <td>951.000000</td>\n",
       "      <td>951.000000</td>\n",
       "      <td>951.000000</td>\n",
       "      <td>951.000000</td>\n",
       "      <td>951.000000</td>\n",
       "      <td>951.000000</td>\n",
       "      <td>951.000000</td>\n",
       "      <td>951.000000</td>\n",
       "    </tr>\n",
       "    <tr>\n",
       "      <th>mean</th>\n",
       "      <td>53.068349</td>\n",
       "      <td>0.641290</td>\n",
       "      <td>0.595644</td>\n",
       "      <td>-6.623025</td>\n",
       "      <td>0.087540</td>\n",
       "      <td>0.259803</td>\n",
       "      <td>0.006374</td>\n",
       "      <td>0.156817</td>\n",
       "      <td>0.458212</td>\n",
       "      <td>119.226648</td>\n",
       "    </tr>\n",
       "    <tr>\n",
       "      <th>std</th>\n",
       "      <td>28.863938</td>\n",
       "      <td>0.140268</td>\n",
       "      <td>0.174252</td>\n",
       "      <td>2.422598</td>\n",
       "      <td>0.084562</td>\n",
       "      <td>0.254152</td>\n",
       "      <td>0.048489</td>\n",
       "      <td>0.110193</td>\n",
       "      <td>0.210715</td>\n",
       "      <td>28.594309</td>\n",
       "    </tr>\n",
       "    <tr>\n",
       "      <th>min</th>\n",
       "      <td>0.000000</td>\n",
       "      <td>0.209000</td>\n",
       "      <td>0.101000</td>\n",
       "      <td>-18.725000</td>\n",
       "      <td>0.023200</td>\n",
       "      <td>0.000220</td>\n",
       "      <td>0.000000</td>\n",
       "      <td>0.021500</td>\n",
       "      <td>0.049900</td>\n",
       "      <td>52.572000</td>\n",
       "    </tr>\n",
       "    <tr>\n",
       "      <th>25%</th>\n",
       "      <td>22.000000</td>\n",
       "      <td>0.552500</td>\n",
       "      <td>0.466000</td>\n",
       "      <td>-7.853000</td>\n",
       "      <td>0.038400</td>\n",
       "      <td>0.052700</td>\n",
       "      <td>0.000000</td>\n",
       "      <td>0.090750</td>\n",
       "      <td>0.290000</td>\n",
       "      <td>99.032500</td>\n",
       "    </tr>\n",
       "    <tr>\n",
       "      <th>50%</th>\n",
       "      <td>64.000000</td>\n",
       "      <td>0.660000</td>\n",
       "      <td>0.608000</td>\n",
       "      <td>-6.389000</td>\n",
       "      <td>0.057100</td>\n",
       "      <td>0.167000</td>\n",
       "      <td>0.000000</td>\n",
       "      <td>0.112000</td>\n",
       "      <td>0.447000</td>\n",
       "      <td>114.020000</td>\n",
       "    </tr>\n",
       "    <tr>\n",
       "      <th>75%</th>\n",
       "      <td>76.000000</td>\n",
       "      <td>0.741000</td>\n",
       "      <td>0.730500</td>\n",
       "      <td>-4.890500</td>\n",
       "      <td>0.098700</td>\n",
       "      <td>0.424500</td>\n",
       "      <td>0.000011</td>\n",
       "      <td>0.187000</td>\n",
       "      <td>0.605000</td>\n",
       "      <td>137.911500</td>\n",
       "    </tr>\n",
       "    <tr>\n",
       "      <th>max</th>\n",
       "      <td>100.000000</td>\n",
       "      <td>0.953000</td>\n",
       "      <td>0.960000</td>\n",
       "      <td>-1.339000</td>\n",
       "      <td>0.733000</td>\n",
       "      <td>0.957000</td>\n",
       "      <td>0.828000</td>\n",
       "      <td>0.919000</td>\n",
       "      <td>0.966000</td>\n",
       "      <td>207.476000</td>\n",
       "    </tr>\n",
       "  </tbody>\n",
       "</table>\n",
       "</div>"
      ],
      "text/plain": [
       "       popularity  danceability      energy    loudness  speechiness  \\\n",
       "count  951.000000    951.000000  951.000000  951.000000   951.000000   \n",
       "mean    53.068349      0.641290    0.595644   -6.623025     0.087540   \n",
       "std     28.863938      0.140268    0.174252    2.422598     0.084562   \n",
       "min      0.000000      0.209000    0.101000  -18.725000     0.023200   \n",
       "25%     22.000000      0.552500    0.466000   -7.853000     0.038400   \n",
       "50%     64.000000      0.660000    0.608000   -6.389000     0.057100   \n",
       "75%     76.000000      0.741000    0.730500   -4.890500     0.098700   \n",
       "max    100.000000      0.953000    0.960000   -1.339000     0.733000   \n",
       "\n",
       "       acousticness  instrumentalness    liveness     valence       tempo  \n",
       "count    951.000000        951.000000  951.000000  951.000000  951.000000  \n",
       "mean       0.259803          0.006374    0.156817    0.458212  119.226648  \n",
       "std        0.254152          0.048489    0.110193    0.210715   28.594309  \n",
       "min        0.000220          0.000000    0.021500    0.049900   52.572000  \n",
       "25%        0.052700          0.000000    0.090750    0.290000   99.032500  \n",
       "50%        0.167000          0.000000    0.112000    0.447000  114.020000  \n",
       "75%        0.424500          0.000011    0.187000    0.605000  137.911500  \n",
       "max        0.957000          0.828000    0.919000    0.966000  207.476000  "
      ]
     },
     "execution_count": 106,
     "metadata": {},
     "output_type": "execute_result"
    }
   ],
   "source": [
    "#Make a table of distribution stats of song metrics using df.describe\n",
    "\n",
    "df[['popularity', 'danceability', 'energy',\n",
    "       'loudness','speechiness', 'acousticness', 'instrumentalness',\n",
    "       'liveness', 'valence', 'tempo']].describe()"
   ]
  },
  {
   "cell_type": "code",
   "execution_count": 107,
   "metadata": {
    "ExecuteTime": {
     "end_time": "2020-06-02T06:43:18.433395Z",
     "start_time": "2020-06-02T06:43:07.465680Z"
    }
   },
   "outputs": [
    {
     "data": {
      "image/png": "[encoded data removed]",
      "text/plain": [
       "<Figure size 432x288 with 1 Axes>"
      ]
     },
     "metadata": {
      "needs_background": "light"
     },
     "output_type": "display_data"
    },
    {
     "data": {
      "image/png": "[encoded data removed]",
      "text/plain": [
       "<Figure size 432x288 with 1 Axes>"
      ]
     },
     "metadata": {
      "needs_background": "light"
     },
     "output_type": "display_data"
    },
    {
     "data": {
      "image/png": "[encoded data removed]",
      "text/plain": [
       "<Figure size 432x288 with 1 Axes>"
      ]
     },
     "metadata": {
      "needs_background": "light"
     },
     "output_type": "display_data"
    },
    {
     "data": {
      "image/png": "[encoded data removed]",
      "text/plain": [
       "<Figure size 432x288 with 1 Axes>"
      ]
     },
     "metadata": {
      "needs_background": "light"
     },
     "output_type": "display_data"
    },
    {
     "data": {
      "image/png": "[encoded data removed]",
      "text/plain": [
       "<Figure size 432x288 with 1 Axes>"
      ]
     },
     "metadata": {
      "needs_background": "light"
     },
     "output_type": "display_data"
    },
    {
     "data": {
      "image/png": "[encoded data removed]",
      "text/plain": [
       "<Figure size 432x288 with 1 Axes>"
      ]
     },
     "metadata": {
      "needs_background": "light"
     },
     "output_type": "display_data"
    },
    {
     "data": {
      "image/png": "[encoded data removed]",
      "text/plain": [
       "<Figure size 432x288 with 1 Axes>"
      ]
     },
     "metadata": {
      "needs_background": "light"
     },
     "output_type": "display_data"
    },
    {
     "data": {
      "image/png": "[encoded data removed]",
      "text/plain": [
       "<Figure size 432x288 with 1 Axes>"
      ]
     },
     "metadata": {
      "needs_background": "light"
     },
     "output_type": "display_data"
    },
    {
     "data": {
      "image/png": "[encoded data removed]",
      "text/plain": [
       "<Figure size 432x288 with 1 Axes>"
      ]
     },
     "metadata": {
      "needs_background": "light"
     },
     "output_type": "display_data"
    },
    {
     "data": {
      "image/png": "[encoded data removed]",
      "text/plain": [
       "<Figure size 432x288 with 1 Axes>"
      ]
     },
     "metadata": {
      "needs_background": "light"
     },
     "output_type": "display_data"
    }
   ],
   "source": [
    "# Visualize histograms of each song metric\n",
    "for col in ['popularity', 'danceability', 'energy','loudness', 'speechiness', 'acousticness', 'instrumentalness',\n",
    "       'liveness', 'valence', 'tempo']:\n",
    "    sns.distplot(df[col])\n",
    "    plt.title(col)\n",
    "    plt.ylabel('Frequency')\n",
    "    plt.show()\n"
   ]
  },
  {
   "cell_type": "markdown",
   "metadata": {},
   "source": [
    "### 2. Feature Engineering"
   ]
  },
  {
   "cell_type": "markdown",
   "metadata": {},
   "source": [
    "Normalize loudness and tempo. \n",
    ">Q: Whats the best norm to use for each?\n"
   ]
  },
  {
   "cell_type": "code",
   "execution_count": 108,
   "metadata": {
    "ExecuteTime": {
     "end_time": "2020-06-02T06:43:18.553326Z",
     "start_time": "2020-06-02T06:43:18.449388Z"
    }
   },
   "outputs": [
    {
     "data": {
      "text/html": [
       "<div>\n",
       "<style scoped>\n",
       "    .dataframe tbody tr th:only-of-type {\n",
       "        vertical-align: middle;\n",
       "    }\n",
       "\n",
       "    .dataframe tbody tr th {\n",
       "        vertical-align: top;\n",
       "    }\n",
       "\n",
       "    .dataframe thead th {\n",
       "        text-align: right;\n",
       "    }\n",
       "</style>\n",
       "<table border=\"1\" class=\"dataframe\">\n",
       "  <thead>\n",
       "    <tr style=\"text-align: right;\">\n",
       "      <th></th>\n",
       "      <th>popularity</th>\n",
       "      <th>danceability</th>\n",
       "      <th>energy</th>\n",
       "      <th>loudness</th>\n",
       "      <th>speechiness</th>\n",
       "      <th>acousticness</th>\n",
       "      <th>instrumentalness</th>\n",
       "      <th>liveness</th>\n",
       "      <th>valence</th>\n",
       "      <th>tempo</th>\n",
       "    </tr>\n",
       "  </thead>\n",
       "  <tbody>\n",
       "    <tr>\n",
       "      <th>0</th>\n",
       "      <td>75</td>\n",
       "      <td>0.578</td>\n",
       "      <td>0.574</td>\n",
       "      <td>0.719890</td>\n",
       "      <td>0.0454</td>\n",
       "      <td>0.196</td>\n",
       "      <td>0.00000</td>\n",
       "      <td>0.0830</td>\n",
       "      <td>0.301</td>\n",
       "      <td>174.152</td>\n",
       "    </tr>\n",
       "    <tr>\n",
       "      <th>1</th>\n",
       "      <td>85</td>\n",
       "      <td>0.358</td>\n",
       "      <td>0.557</td>\n",
       "      <td>0.651501</td>\n",
       "      <td>0.0590</td>\n",
       "      <td>0.695</td>\n",
       "      <td>0.00000</td>\n",
       "      <td>0.0902</td>\n",
       "      <td>0.494</td>\n",
       "      <td>85.043</td>\n",
       "    </tr>\n",
       "    <tr>\n",
       "      <th>2</th>\n",
       "      <td>84</td>\n",
       "      <td>0.748</td>\n",
       "      <td>0.524</td>\n",
       "      <td>0.754975</td>\n",
       "      <td>0.0338</td>\n",
       "      <td>0.414</td>\n",
       "      <td>0.00000</td>\n",
       "      <td>0.1110</td>\n",
       "      <td>0.661</td>\n",
       "      <td>95.010</td>\n",
       "    </tr>\n",
       "    <tr>\n",
       "      <th>3</th>\n",
       "      <td>69</td>\n",
       "      <td>0.662</td>\n",
       "      <td>0.586</td>\n",
       "      <td>0.569654</td>\n",
       "      <td>0.0307</td>\n",
       "      <td>0.097</td>\n",
       "      <td>0.00272</td>\n",
       "      <td>0.1150</td>\n",
       "      <td>0.296</td>\n",
       "      <td>90.000</td>\n",
       "    </tr>\n",
       "    <tr>\n",
       "      <th>4</th>\n",
       "      <td>14</td>\n",
       "      <td>0.783</td>\n",
       "      <td>0.623</td>\n",
       "      <td>0.724664</td>\n",
       "      <td>0.0800</td>\n",
       "      <td>0.338</td>\n",
       "      <td>0.00000</td>\n",
       "      <td>0.0975</td>\n",
       "      <td>0.447</td>\n",
       "      <td>100.048</td>\n",
       "    </tr>\n",
       "  </tbody>\n",
       "</table>\n",
       "</div>"
      ],
      "text/plain": [
       "   popularity  danceability  energy  loudness  speechiness  acousticness  \\\n",
       "0          75         0.578   0.574  0.719890       0.0454         0.196   \n",
       "1          85         0.358   0.557  0.651501       0.0590         0.695   \n",
       "2          84         0.748   0.524  0.754975       0.0338         0.414   \n",
       "3          69         0.662   0.586  0.569654       0.0307         0.097   \n",
       "4          14         0.783   0.623  0.724664       0.0800         0.338   \n",
       "\n",
       "   instrumentalness  liveness  valence    tempo  \n",
       "0           0.00000    0.0830    0.301  174.152  \n",
       "1           0.00000    0.0902    0.494   85.043  \n",
       "2           0.00000    0.1110    0.661   95.010  \n",
       "3           0.00272    0.1150    0.296   90.000  \n",
       "4           0.00000    0.0975    0.447  100.048  "
      ]
     },
     "execution_count": 108,
     "metadata": {},
     "output_type": "execute_result"
    }
   ],
   "source": [
    "from sklearn.preprocessing import MinMaxScaler\n",
    "scaler = MinMaxScaler()\n",
    "\n",
    "df['loudness'] = scaler.fit_transform(df[['loudness']])\n",
    "df.head()"
   ]
  },
  {
   "cell_type": "code",
   "execution_count": 109,
   "metadata": {
    "ExecuteTime": {
     "end_time": "2020-06-02T06:43:18.698253Z",
     "start_time": "2020-06-02T06:43:18.563321Z"
    }
   },
   "outputs": [
    {
     "data": {
      "text/html": [
       "<div>\n",
       "<style scoped>\n",
       "    .dataframe tbody tr th:only-of-type {\n",
       "        vertical-align: middle;\n",
       "    }\n",
       "\n",
       "    .dataframe tbody tr th {\n",
       "        vertical-align: top;\n",
       "    }\n",
       "\n",
       "    .dataframe thead th {\n",
       "        text-align: right;\n",
       "    }\n",
       "</style>\n",
       "<table border=\"1\" class=\"dataframe\">\n",
       "  <thead>\n",
       "    <tr style=\"text-align: right;\">\n",
       "      <th></th>\n",
       "      <th>popularity</th>\n",
       "      <th>danceability</th>\n",
       "      <th>energy</th>\n",
       "      <th>loudness</th>\n",
       "      <th>speechiness</th>\n",
       "      <th>acousticness</th>\n",
       "      <th>instrumentalness</th>\n",
       "      <th>liveness</th>\n",
       "      <th>valence</th>\n",
       "      <th>tempo</th>\n",
       "    </tr>\n",
       "  </thead>\n",
       "  <tbody>\n",
       "    <tr>\n",
       "      <th>0</th>\n",
       "      <td>75</td>\n",
       "      <td>0.578</td>\n",
       "      <td>0.574</td>\n",
       "      <td>0.719890</td>\n",
       "      <td>0.0454</td>\n",
       "      <td>0.196</td>\n",
       "      <td>0.00000</td>\n",
       "      <td>0.0830</td>\n",
       "      <td>0.301</td>\n",
       "      <td>0.784873</td>\n",
       "    </tr>\n",
       "    <tr>\n",
       "      <th>1</th>\n",
       "      <td>85</td>\n",
       "      <td>0.358</td>\n",
       "      <td>0.557</td>\n",
       "      <td>0.651501</td>\n",
       "      <td>0.0590</td>\n",
       "      <td>0.695</td>\n",
       "      <td>0.00000</td>\n",
       "      <td>0.0902</td>\n",
       "      <td>0.494</td>\n",
       "      <td>0.209620</td>\n",
       "    </tr>\n",
       "    <tr>\n",
       "      <th>2</th>\n",
       "      <td>84</td>\n",
       "      <td>0.748</td>\n",
       "      <td>0.524</td>\n",
       "      <td>0.754975</td>\n",
       "      <td>0.0338</td>\n",
       "      <td>0.414</td>\n",
       "      <td>0.00000</td>\n",
       "      <td>0.1110</td>\n",
       "      <td>0.661</td>\n",
       "      <td>0.273963</td>\n",
       "    </tr>\n",
       "    <tr>\n",
       "      <th>3</th>\n",
       "      <td>69</td>\n",
       "      <td>0.662</td>\n",
       "      <td>0.586</td>\n",
       "      <td>0.569654</td>\n",
       "      <td>0.0307</td>\n",
       "      <td>0.097</td>\n",
       "      <td>0.00272</td>\n",
       "      <td>0.1150</td>\n",
       "      <td>0.296</td>\n",
       "      <td>0.241621</td>\n",
       "    </tr>\n",
       "    <tr>\n",
       "      <th>4</th>\n",
       "      <td>14</td>\n",
       "      <td>0.783</td>\n",
       "      <td>0.623</td>\n",
       "      <td>0.724664</td>\n",
       "      <td>0.0800</td>\n",
       "      <td>0.338</td>\n",
       "      <td>0.00000</td>\n",
       "      <td>0.0975</td>\n",
       "      <td>0.447</td>\n",
       "      <td>0.306487</td>\n",
       "    </tr>\n",
       "  </tbody>\n",
       "</table>\n",
       "</div>"
      ],
      "text/plain": [
       "   popularity  danceability  energy  loudness  speechiness  acousticness  \\\n",
       "0          75         0.578   0.574  0.719890       0.0454         0.196   \n",
       "1          85         0.358   0.557  0.651501       0.0590         0.695   \n",
       "2          84         0.748   0.524  0.754975       0.0338         0.414   \n",
       "3          69         0.662   0.586  0.569654       0.0307         0.097   \n",
       "4          14         0.783   0.623  0.724664       0.0800         0.338   \n",
       "\n",
       "   instrumentalness  liveness  valence     tempo  \n",
       "0           0.00000    0.0830    0.301  0.784873  \n",
       "1           0.00000    0.0902    0.494  0.209620  \n",
       "2           0.00000    0.1110    0.661  0.273963  \n",
       "3           0.00272    0.1150    0.296  0.241621  \n",
       "4           0.00000    0.0975    0.447  0.306487  "
      ]
     },
     "execution_count": 109,
     "metadata": {},
     "output_type": "execute_result"
    }
   ],
   "source": [
    "from sklearn.preprocessing import MinMaxScaler\n",
    "scaler = MinMaxScaler()\n",
    "\n",
    "df['tempo'] = scaler.fit_transform(df[['tempo']])\n",
    "df.head()"
   ]
  },
  {
   "cell_type": "markdown",
   "metadata": {},
   "source": [
    "Visualize the new loudness and tempo distributions"
   ]
  },
  {
   "cell_type": "code",
   "execution_count": 110,
   "metadata": {
    "ExecuteTime": {
     "end_time": "2020-06-02T06:43:21.019914Z",
     "start_time": "2020-06-02T06:43:18.708241Z"
    }
   },
   "outputs": [
    {
     "data": {
      "image/png": "[encoded data removed]",
      "text/plain": [
       "<Figure size 432x288 with 1 Axes>"
      ]
     },
     "metadata": {
      "needs_background": "light"
     },
     "output_type": "display_data"
    },
    {
     "data": {
      "image/png": "[encoded data removed]",
      "text/plain": [
       "<Figure size 432x288 with 1 Axes>"
      ]
     },
     "metadata": {
      "needs_background": "light"
     },
     "output_type": "display_data"
    }
   ],
   "source": [
    "# Visualize histograms of each song metric\n",
    "for col in ['loudness', 'tempo']:\n",
    "    sns.distplot(df[col])\n",
    "    plt.title(col)\n",
    "    plt.ylabel('Frequency')\n",
    "    plt.show()\n"
   ]
  },
  {
   "cell_type": "markdown",
   "metadata": {},
   "source": [
    "### 3. Examine Features"
   ]
  },
  {
   "cell_type": "markdown",
   "metadata": {},
   "source": [
    "To reduce variability, we could limit our analysis to only those songs that are sufficiently popular"
   ]
  },
  {
   "cell_type": "code",
   "execution_count": 111,
   "metadata": {
    "ExecuteTime": {
     "end_time": "2020-06-02T06:43:21.063889Z",
     "start_time": "2020-06-02T06:43:21.027910Z"
    }
   },
   "outputs": [
    {
     "data": {
      "text/plain": [
       "525"
      ]
     },
     "execution_count": 111,
     "metadata": {},
     "output_type": "execute_result"
    }
   ],
   "source": [
    "#filter songs with above median popularity\n",
    "df= df[df['popularity']>=61]\n",
    "df = df.reset_index(drop=True)\n",
    "len(df)"
   ]
  },
  {
   "cell_type": "markdown",
   "metadata": {},
   "source": [
    "Pick 3 features that you think would give you a good fit.\n",
    ">Q: *Hypothesis*: Why do you think these 3 could be a good predictor for popularity?"
   ]
  },
  {
   "cell_type": "code",
   "execution_count": null,
   "metadata": {},
   "outputs": [],
   "source": []
  },
  {
   "cell_type": "markdown",
   "metadata": {},
   "source": [
    "Visualize the relationship between the features and the response using scatterplots"
   ]
  },
  {
   "cell_type": "code",
   "execution_count": 112,
   "metadata": {
    "ExecuteTime": {
     "end_time": "2020-06-02T06:43:23.227646Z",
     "start_time": "2020-06-02T06:43:21.073883Z"
    }
   },
   "outputs": [
    {
     "data": {
      "text/plain": [
       "<matplotlib.axes._subplots.AxesSubplot at 0x25097e80588>"
      ]
     },
     "execution_count": 112,
     "metadata": {},
     "output_type": "execute_result"
    },
    {
     "data": {
      "image/png": "[encoded data removed]",
      "text/plain": [
       "<Figure size 1152x576 with 3 Axes>"
      ]
     },
     "metadata": {
      "needs_background": "light"
     },
     "output_type": "display_data"
    }
   ],
   "source": [
    "\n",
    "fig, axs = plt.subplots(1, 3, figsize=(16, 8), sharey=True)\n",
    "df.plot(kind='scatter', x='danceability', y='popularity', ax=axs[0], grid=True)\n",
    "df.plot(kind='scatter', x='energy', y='popularity', ax=axs[1], grid=True)\n",
    "df.plot(kind='scatter', x='loudness', y='popularity', ax=axs[2], grid=True)"
   ]
  },
  {
   "cell_type": "markdown",
   "metadata": {},
   "source": [
    "### 4. Fit the Model"
   ]
  },
  {
   "cell_type": "markdown",
   "metadata": {},
   "source": [
    "Do the following steps for each of your selected features:\n",
    "\n",
    "a. Determine best fit line coefficients"
   ]
  },
  {
   "cell_type": "code",
   "execution_count": 113,
   "metadata": {
    "ExecuteTime": {
     "end_time": "2020-06-02T06:43:23.313599Z",
     "start_time": "2020-06-02T06:43:23.232644Z"
    }
   },
   "outputs": [
    {
     "name": "stdout",
     "output_type": "stream",
     "text": [
      "Model slope: 7.5728\n",
      "Model intercept: 70.2751\n"
     ]
    }
   ],
   "source": [
    "from sklearn.linear_model import LinearRegression\n",
    "\n",
    "feature_cols = ['danceability']\n",
    "X = df[feature_cols]\n",
    "y = df['popularity']\n",
    "\n",
    "model = LinearRegression(fit_intercept=True)\n",
    "model.fit(X,y)\n",
    "\n",
    "print('Model slope: %0.4f' % model.coef_[0])\n",
    "print('Model intercept: %0.4f' % model.intercept_)\n"
   ]
  },
  {
   "cell_type": "markdown",
   "metadata": {},
   "source": [
    "b. Obtain the R2 for the fit"
   ]
  },
  {
   "cell_type": "code",
   "execution_count": 114,
   "metadata": {
    "ExecuteTime": {
     "end_time": "2020-06-02T06:43:23.459514Z",
     "start_time": "2020-06-02T06:43:23.321594Z"
    }
   },
   "outputs": [
    {
     "name": "stdout",
     "output_type": "stream",
     "text": [
      "Model R2: 0.0158\n"
     ]
    }
   ],
   "source": [
    "print('Model R2: %0.4f' % model.score(X,y))"
   ]
  },
  {
   "cell_type": "markdown",
   "metadata": {},
   "source": [
    ">Q: Interpret the model coefficients. What does the R2 value tell you about the fitted model?"
   ]
  },
  {
   "cell_type": "markdown",
   "metadata": {},
   "source": [
    "An increase of 0.1 in danceability will result to an increase of popularity by 0.7 points. \n",
    "But based from the R2, this is a very bad fit and so we hold back from this interpretation."
   ]
  },
  {
   "cell_type": "markdown",
   "metadata": {},
   "source": [
    "c. Compute for RMSE and MAE"
   ]
  },
  {
   "cell_type": "code",
   "execution_count": 115,
   "metadata": {
    "ExecuteTime": {
     "end_time": "2020-06-02T06:43:23.600436Z",
     "start_time": "2020-06-02T06:43:23.465511Z"
    }
   },
   "outputs": [],
   "source": [
    "from sklearn.metrics import mean_squared_error\n",
    "from sklearn.metrics import mean_absolute_error\n",
    "\n",
    "#define RMSE function\n",
    "def RMSE(model, X, y):\n",
    "    predicted = model.predict(X)\n",
    "    rmse = np.sqrt(mean_squared_error(y, predicted))\n",
    "    return rmse\n",
    "  \n",
    "#define MAE function\n",
    "def MAE(model, X, y):\n",
    "    predicted = model.predict(X)\n",
    "    mae = mean_absolute_error(y, predicted)\n",
    "    return mae"
   ]
  },
  {
   "cell_type": "code",
   "execution_count": 116,
   "metadata": {
    "ExecuteTime": {
     "end_time": "2020-06-02T06:43:23.750602Z",
     "start_time": "2020-06-02T06:43:23.606430Z"
    }
   },
   "outputs": [
    {
     "name": "stdout",
     "output_type": "stream",
     "text": [
      "Model RMSE: 8.2269\n",
      "Model MAE: 6.9072\n"
     ]
    }
   ],
   "source": [
    "print('Model RMSE: %0.4f' % RMSE(model,X,y))\n",
    "print('Model MAE: %0.4f' % MAE(model,X,y))"
   ]
  },
  {
   "cell_type": "markdown",
   "metadata": {},
   "source": [
    ">Q: What does the RMSE and MAE tell you about the model performance?"
   ]
  },
  {
   "cell_type": "markdown",
   "metadata": {},
   "source": [
    "The model's predicted popularity is more or less expected to be off by 8.22 points (conservative) or 6.9 points (equal weighting) for all songs considered"
   ]
  },
  {
   "cell_type": "markdown",
   "metadata": {},
   "source": [
    "d. Check for outliers and determine if removing them could result to a better fit"
   ]
  },
  {
   "cell_type": "code",
   "execution_count": 117,
   "metadata": {
    "ExecuteTime": {
     "end_time": "2020-06-02T06:43:24.085559Z",
     "start_time": "2020-06-02T06:43:23.755595Z"
    }
   },
   "outputs": [
    {
     "data": {
      "text/plain": [
       "Series([], Name: popularity, dtype: int64)"
      ]
     },
     "execution_count": 117,
     "metadata": {},
     "output_type": "execute_result"
    }
   ],
   "source": [
    "q1 = df['popularity'].quantile(0.25)\n",
    "q3 =  df['popularity'].quantile(0.75)\n",
    "IQR = q3 -q1\n",
    "\n",
    "outliers = df[(df['popularity']<(q1-1.5*IQR))&(df['popularity']>(q3+1.5*IQR))]['popularity']\n",
    "outliers"
   ]
  },
  {
   "cell_type": "markdown",
   "metadata": {},
   "source": [
    "### 5. Using multiple features"
   ]
  },
  {
   "cell_type": "markdown",
   "metadata": {},
   "source": [
    "Will using all 3 of your chosen features result into a better fit? Repeat the procedure in 4 and see if the metrics improve.\n",
    "If it did improve, do you think its enough to make the model more credible?"
   ]
  },
  {
   "cell_type": "code",
   "execution_count": 125,
   "metadata": {
    "ExecuteTime": {
     "end_time": "2020-06-02T06:46:19.835110Z",
     "start_time": "2020-06-02T06:46:19.795131Z"
    }
   },
   "outputs": [
    {
     "name": "stdout",
     "output_type": "stream",
     "text": [
      "68.31872541508484\n",
      "[('danceability', 7.3300771866970384), ('energy', -4.351611848467671), ('loudness', 6.738561349937369)]\n"
     ]
    }
   ],
   "source": [
    "# create X and y\n",
    "feature_cols = ['danceability', 'energy', 'loudness']\n",
    "X = df[feature_cols]\n",
    "y = df['popularity']\n",
    "\n",
    "lm = LinearRegression()\n",
    "lm.fit(X, y)\n",
    "\n",
    "# print intercept and coefficients\n",
    "print(lm.intercept_)\n",
    "# pair the feature names with the coefficients\n",
    "print(list(zip(feature_cols, lm.coef_)))"
   ]
  },
  {
   "cell_type": "code",
   "execution_count": 126,
   "metadata": {
    "ExecuteTime": {
     "end_time": "2020-06-02T06:46:21.678286Z",
     "start_time": "2020-06-02T06:46:21.651310Z"
    }
   },
   "outputs": [
    {
     "data": {
      "text/plain": [
       "0.021471096934127853"
      ]
     },
     "execution_count": 126,
     "metadata": {},
     "output_type": "execute_result"
    }
   ],
   "source": [
    "# calculate the R-squared\n",
    "lm.score(X, y)"
   ]
  },
  {
   "cell_type": "markdown",
   "metadata": {},
   "source": [
    "### 6. Using k-fold cross validation\n",
    "We could further investigate on the models predictive performance using k-fold cross validation.\n",
    "What does folding reveal about the linear model you built?\n",
    "\n",
    "- For the model you built in (5), try the validation procedure for k=5 and k=10\n",
    "\n"
   ]
  },
  {
   "cell_type": "code",
   "execution_count": null,
   "metadata": {},
   "outputs": [],
   "source": [
    "X = X.to_numpy()\n",
    "Y = y.to_numpy()"
   ]
  },
  {
   "cell_type": "code",
   "execution_count": 129,
   "metadata": {
    "ExecuteTime": {
     "end_time": "2020-06-02T06:47:08.607913Z",
     "start_time": "2020-06-02T06:47:08.499974Z"
    }
   },
   "outputs": [
    {
     "name": "stdout",
     "output_type": "stream",
     "text": [
      "train: R2=0.03 \n",
      "test: RMSE=6.88, R2=-0.12\n",
      "train: R2=0.03 \n",
      "test: RMSE=7.88, R2=-0.23\n",
      "train: R2=0.02 \n",
      "test: RMSE=6.99, R2=0.01\n",
      "train: R2=0.02 \n",
      "test: RMSE=8.12, R2=0.04\n",
      "train: R2=0.02 \n",
      "test: RMSE=11.58, R2=-0.33\n"
     ]
    }
   ],
   "source": [
    "from sklearn.model_selection import KFold\n",
    "kf = KFold(n_splits=5, random_state=None, shuffle=False)\n",
    "\n",
    "\n",
    "for train_index, test_index in kf.split(X):\n",
    "    #print(\"TRAIN:\", train_index, \"TEST:\", test_index)\n",
    "    X_train, X_test = X[train_index], X[test_index]\n",
    "    Y_train, Y_test = Y[train_index], Y[test_index]\n",
    "    #print(np.shape(X_test), np.shape(Y_test))\n",
    "    \n",
    "    #fit using training data\n",
    "    lin_model = LinearRegression()\n",
    "    lin_model.fit(X_train, Y_train)\n",
    "    \n",
    "    #evaluate fit of train data\n",
    "    print('train: R2=%0.2f '% lin_model.score(X_train, Y_train))\n",
    "\n",
    "    #evaluate using test data\n",
    "    print('test: RMSE=%0.2f, R2=%0.2f' % (RMSE(lin_model, X_test, Y_test), lin_model.score(X_test,Y_test)))"
   ]
  },
  {
   "cell_type": "markdown",
   "metadata": {},
   "source": [
    "All training sets show poor fit. Some test sets produced relatively better fits, but this is only local to the fold since RMSE remains high."
   ]
  },
  {
   "cell_type": "markdown",
   "metadata": {},
   "source": [
    "## Day Deliverable\n",
    "### A deeper look into linear regression\n",
    "1. (Individual) Pick a set of (a) 3 (b) 4 and (c) all audio features as predictors and repeat steps 3-6. \n",
    "\n",
    "\n",
    "2. (If you finish 1 ahead of time) *Classification using Linear Regression* \n",
    "\n",
    "     Let a **popular track** be defined as a track with current popularity > 60. \n",
    "    \n",
    "    (a) Based on this, create a column `is_popular` using encoding methods.  \n",
    "    \n",
    "    (b) Configure and fit a linear regression model classificator using the audio features as predictors to predict if a track is popular or not.\n",
    "    \n",
    "    (c) Validate tuned model using 5-fold cross validation\n",
    "    \n",
    "    \n",
    "3. (If you finish 2 ahead of time) *Classification using Logistic Regression *\n",
    "    \n",
    "    Repeat all steps in (2) but use Logistic Regression instead. Did this result into a better predicting model?"
   ]
  },
  {
   "cell_type": "code",
   "execution_count": null,
   "metadata": {},
   "outputs": [],
   "source": []
  },
  {
   "cell_type": "code",
   "execution_count": null,
   "metadata": {},
   "outputs": [],
   "source": []
  }
 ],
 "metadata": {
  "kernelspec": {
   "display_name": "Python 3",
   "language": "python",
   "name": "python3"
  },
  "language_info": {
   "codemirror_mode": {
    "name": "ipython",
    "version": 3
   },
   "file_extension": ".py",
   "mimetype": "text/x-python",
   "name": "python",
   "nbconvert_exporter": "python",
   "pygments_lexer": "ipython3",
   "version": "3.7.3"
  }
 },
 "nbformat": 4,
 "nbformat_minor": 2
}
