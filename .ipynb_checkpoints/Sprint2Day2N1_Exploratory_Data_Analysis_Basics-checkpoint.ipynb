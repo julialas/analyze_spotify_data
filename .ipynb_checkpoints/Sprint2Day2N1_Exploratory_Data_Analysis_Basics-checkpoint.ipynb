{
 "cells": [
  {
   "cell_type": "markdown",
   "metadata": {},
   "source": [
    "# Exploratory Data Analysis 1\n",
    "An approach to EDA:  \n",
    "![image of the data flow showing visualization as an exploratory and iterative process](http://benbestphd.com/images/r4ds_data-science.png)"
   ]
  },
  {
   "cell_type": "markdown",
   "metadata": {},
   "source": [
    "#### The goal of EDA is to discover patterns in data. This is a fundamental stepping stone towards predictive modelling, or an end goal in itself. \n",
    "\n",
    "Tips for good EDA:\n",
    "- Get to know the context of the data.  \n",
    "- Question the data: Who collected it? Who is distributing it? Do all of the patterns make sense to what you know about the world? If they don’t, go back and look more closely at your data.\n",
    "\n",
    "- Use EDA to formulate a question based on the patterns that you see.\n",
    "- Use EDA to check if a hypothesis is worth a deeper analysis.\n",
    "\n",
    "- Keep the questions SIMPLE and BRIEF- the goal is to understand and build complexity further on.\n",
    "- Its an iterative process-- its okay to repeat things so long as you learn from previous output."
   ]
  },
  {
   "cell_type": "code",
   "execution_count": null,
   "metadata": {
    "ExecuteTime": {
     "end_time": "2020-09-24T16:10:30.132434Z",
     "start_time": "2020-09-24T16:09:59.115180Z"
    }
   },
   "outputs": [],
   "source": [
    "# importing the libraries for data processing\n",
    "import numpy as np \n",
    "import pandas as pd \n"
   ]
  },
  {
   "cell_type": "markdown",
   "metadata": {},
   "source": [
    "### 1. Tidying our charts data"
   ]
  },
  {
   "cell_type": "markdown",
   "metadata": {},
   "source": [
    "Read the csv file, check for missing, duplicated and unexpected values, and filtering if needed"
   ]
  },
  {
   "cell_type": "code",
   "execution_count": null,
   "metadata": {
    "ExecuteTime": {
     "end_time": "2020-09-24T16:13:59.415710Z",
     "start_time": "2020-09-24T16:13:57.552775Z"
    }
   },
   "outputs": [],
   "source": [
    "# read the charts dataset\n",
    "charts_df = pd.read_csv('data/spotify_daily_charts.csv')\n",
    "charts_df.head()"
   ]
  },
  {
   "cell_type": "markdown",
   "metadata": {},
   "source": [
    "### Data Checks\n",
    "It is prudent to do the following on a DataFrame before any analysis is made\n",
    "1. Check shape\n",
    "2. Check data types of columns\n",
    "3. Check null values in columns\n",
    "4. Check rows with null values\n",
    "5. Check for duplicates"
   ]
  },
  {
   "cell_type": "code",
   "execution_count": null,
   "metadata": {
    "ExecuteTime": {
     "end_time": "2020-09-24T16:13:59.462682Z",
     "start_time": "2020-09-24T16:13:59.430702Z"
    }
   },
   "outputs": [],
   "source": [
    "#Check the shape of the dataframe\n",
    "charts_df.shape "
   ]
  },
  {
   "cell_type": "code",
   "execution_count": null,
   "metadata": {
    "ExecuteTime": {
     "end_time": "2020-09-24T16:13:59.653574Z",
     "start_time": "2020-09-24T16:13:59.619593Z"
    }
   },
   "outputs": [],
   "source": [
    "#Check data types of the columns\n",
    "charts_df.dtypes"
   ]
  },
  {
   "cell_type": "code",
   "execution_count": null,
   "metadata": {
    "ExecuteTime": {
     "end_time": "2020-09-24T16:14:00.250232Z",
     "start_time": "2020-09-24T16:13:59.773505Z"
    }
   },
   "outputs": [],
   "source": [
    "#Check null values in the columns\n",
    "charts_df.info()"
   ]
  },
  {
   "cell_type": "code",
   "execution_count": null,
   "metadata": {
    "ExecuteTime": {
     "end_time": "2020-09-24T16:29:08.171839Z",
     "start_time": "2020-09-24T16:29:07.127438Z"
    }
   },
   "outputs": [],
   "source": [
    "#Check for duplicates\n",
    "sum(charts_df.duplicated())"
   ]
  },
  {
   "cell_type": "code",
   "execution_count": null,
   "metadata": {
    "ExecuteTime": {
     "end_time": "2020-09-24T16:29:09.064331Z",
     "start_time": "2020-09-24T16:29:09.008363Z"
    }
   },
   "outputs": [],
   "source": [
    "#check if unique values are expected\n",
    "charts_df['position'].unique()"
   ]
  },
  {
   "cell_type": "code",
   "execution_count": null,
   "metadata": {
    "ExecuteTime": {
     "end_time": "2020-09-24T16:29:09.570044Z",
     "start_time": "2020-09-24T16:29:09.488088Z"
    }
   },
   "outputs": [],
   "source": [
    "len(charts_df['artist'].unique())"
   ]
  },
  {
   "cell_type": "code",
   "execution_count": null,
   "metadata": {
    "ExecuteTime": {
     "end_time": "2020-09-24T16:29:10.000799Z",
     "start_time": "2020-09-24T16:29:09.896852Z"
    }
   },
   "outputs": [],
   "source": [
    "len(charts_df['track_name'].unique())"
   ]
  },
  {
   "cell_type": "code",
   "execution_count": null,
   "metadata": {
    "ExecuteTime": {
     "end_time": "2020-09-24T16:29:10.430548Z",
     "start_time": "2020-09-24T16:29:10.316612Z"
    }
   },
   "outputs": [],
   "source": [
    "len(charts_df['track_id'].unique())"
   ]
  },
  {
   "cell_type": "markdown",
   "metadata": {},
   "source": [
    "##### Convert date to datetime index\n",
    "Pandas has a very useful method `pd.to_datetime` that smartly recognizes date and time columns and allows for easier time series techniques"
   ]
  },
  {
   "cell_type": "code",
   "execution_count": null,
   "metadata": {
    "ExecuteTime": {
     "end_time": "2020-09-24T16:29:14.140425Z",
     "start_time": "2020-09-24T16:29:13.837600Z"
    }
   },
   "outputs": [],
   "source": [
    "#transform date column into a datetime column\n",
    "charts_df['date'] = pd.to_datetime(charts_df['date'])\n",
    "charts_df.head()"
   ]
  },
  {
   "cell_type": "code",
   "execution_count": null,
   "metadata": {
    "ExecuteTime": {
     "end_time": "2020-09-24T16:29:14.584185Z",
     "start_time": "2020-09-24T16:29:14.406273Z"
    }
   },
   "outputs": [],
   "source": [
    "#extract month \n",
    "charts_df['month']=charts_df['date'].dt.month\n",
    "charts_df.head()"
   ]
  },
  {
   "cell_type": "code",
   "execution_count": null,
   "metadata": {
    "ExecuteTime": {
     "end_time": "2020-09-24T16:29:15.493651Z",
     "start_time": "2020-09-24T16:29:15.120865Z"
    }
   },
   "outputs": [],
   "source": [
    "#extract year\n",
    "charts_df['year']=charts_df['date'].dt.year\n",
    "# get day and day of week\n",
    "charts_df['day']=charts_df['date'].dt.day\n",
    "charts_df['day_of_week']=charts_df['date'].dt.dayofweek # The day of the week with Monday=0, Sunday=6.\n",
    "charts_df.head()"
   ]
  },
  {
   "cell_type": "markdown",
   "metadata": {},
   "source": [
    "### 2. Examining the charts data\n",
    "Reshape and aggregate the DataFrame to answer basic data questions "
   ]
  },
  {
   "cell_type": "code",
   "execution_count": null,
   "metadata": {
    "ExecuteTime": {
     "end_time": "2020-09-24T16:19:13.516021Z",
     "start_time": "2020-09-24T16:19:13.390097Z"
    }
   },
   "outputs": [],
   "source": [
    "#Lets create tallies of each column using the `value_counts` method\n",
    "charts_df['artist'].value_counts()[:10]"
   ]
  },
  {
   "cell_type": "code",
   "execution_count": null,
   "metadata": {
    "ExecuteTime": {
     "end_time": "2020-09-24T16:19:15.732753Z",
     "start_time": "2020-09-24T16:19:15.677784Z"
    }
   },
   "outputs": [],
   "source": [
    "charts_df['track_name'].value_counts()"
   ]
  },
  {
   "cell_type": "code",
   "execution_count": null,
   "metadata": {
    "ExecuteTime": {
     "end_time": "2020-09-24T16:21:22.114455Z",
     "start_time": "2020-09-24T16:21:22.036502Z"
    }
   },
   "outputs": [],
   "source": [
    "#filtering columns\n",
    "charts_df[charts_df['track_name']=='Happier']"
   ]
  },
  {
   "cell_type": "markdown",
   "metadata": {},
   "source": [
    "> Q1. From top 50 most streamed, get top 20 most frequently occuring artists"
   ]
  },
  {
   "cell_type": "code",
   "execution_count": null,
   "metadata": {
    "ExecuteTime": {
     "end_time": "2020-09-24T16:22:21.465502Z",
     "start_time": "2020-09-24T16:22:21.403538Z"
    }
   },
   "outputs": [],
   "source": [
    "charts_df[charts_df['position']<=50]['artist'].value_counts()[:20]"
   ]
  },
  {
   "cell_type": "markdown",
   "metadata": {},
   "source": [
    "> Q2. From top 50 list this year, get top 20 most frequently occuring artists"
   ]
  },
  {
   "cell_type": "code",
   "execution_count": null,
   "metadata": {
    "ExecuteTime": {
     "end_time": "2020-09-24T16:29:41.441809Z",
     "start_time": "2020-09-24T16:29:41.326874Z"
    }
   },
   "outputs": [],
   "source": [
    "charts_df[(charts_df['position']>=50)&(charts_df['year']==2020)]['artist'].value_counts()[:20]"
   ]
  },
  {
   "cell_type": "markdown",
   "metadata": {},
   "source": [
    "> Q3. On what positions did Taylor Swift land on the chart for 2019? What were her songs that landed first on the chart?"
   ]
  },
  {
   "cell_type": "code",
   "execution_count": null,
   "metadata": {
    "ExecuteTime": {
     "end_time": "2020-09-24T16:35:18.334080Z",
     "start_time": "2020-09-24T16:35:18.291107Z"
    }
   },
   "outputs": [],
   "source": [
    "np.sort(charts_df[(charts_df['artist']=='Taylor Swift')&(charts_df['year']==2019)]['position'].unique())"
   ]
  },
  {
   "cell_type": "code",
   "execution_count": null,
   "metadata": {
    "ExecuteTime": {
     "end_time": "2020-09-24T16:36:36.631291Z",
     "start_time": "2020-09-24T16:36:36.464387Z"
    }
   },
   "outputs": [],
   "source": [
    "charts_df[(charts_df['artist']=='Taylor Swift')&\\\n",
    "                    (charts_df['year']==2019)&\\\n",
    "                    (charts_df['position']==1)]['track_name'].unique()"
   ]
  },
  {
   "cell_type": "markdown",
   "metadata": {},
   "source": [
    "### 3. Describing and Aggregating the charts dataset\n"
   ]
  },
  {
   "cell_type": "markdown",
   "metadata": {},
   "source": [
    "Basic stats on the streams column using the `describe` method"
   ]
  },
  {
   "cell_type": "code",
   "execution_count": null,
   "metadata": {
    "ExecuteTime": {
     "end_time": "2020-09-24T16:46:04.681094Z",
     "start_time": "2020-09-24T16:46:04.624126Z"
    }
   },
   "outputs": [],
   "source": [
    "charts_df['streams'].describe()"
   ]
  },
  {
   "cell_type": "markdown",
   "metadata": {},
   "source": [
    "The pandas GroupBy operator functions in the same way as pivot_table in excel\n",
    "\n",
    "The syntax is:\n",
    "```python\n",
    "df.groupby('index_column')['agg_column'].aggfunc\n",
    "df.groupby(['index_column1','index_column2']).agg('agg_column1':aggfunc1, 'agg_column2':aggfunc2)\n",
    "```\n"
   ]
  },
  {
   "cell_type": "markdown",
   "metadata": {},
   "source": [
    "Q: How many total streams did charting songs in Spotify earn per year?"
   ]
  },
  {
   "cell_type": "code",
   "execution_count": null,
   "metadata": {
    "ExecuteTime": {
     "end_time": "2020-09-24T16:46:39.052430Z",
     "start_time": "2020-09-24T16:46:38.859540Z"
    }
   },
   "outputs": [],
   "source": [
    "charts_df.groupby('year')['streams'].sum()   #inputting a column name string in agg_column outputs a Series"
   ]
  },
  {
   "cell_type": "code",
   "execution_count": null,
   "metadata": {
    "ExecuteTime": {
     "end_time": "2020-09-24T16:46:54.721468Z",
     "start_time": "2020-09-24T16:46:54.581550Z"
    }
   },
   "outputs": [],
   "source": [
    "charts_df.groupby('year')[['streams']].sum()   #inputting a list in agg_column outputs a DataFrame"
   ]
  },
  {
   "cell_type": "markdown",
   "metadata": {},
   "source": [
    "> Q: How many streams did each of the 200 positions contribute to the annual streams of spotify?"
   ]
  },
  {
   "cell_type": "code",
   "execution_count": null,
   "metadata": {
    "ExecuteTime": {
     "end_time": "2020-09-24T16:47:23.672903Z",
     "start_time": "2020-09-24T16:47:23.402060Z"
    }
   },
   "outputs": [],
   "source": [
    "charts_df.groupby(['year','position'])[['streams']].sum()   #inputting a list in agg_column outputs a DataFrame"
   ]
  },
  {
   "cell_type": "markdown",
   "metadata": {},
   "source": [
    "> Q: What visualization would best suit the output of the cell above?"
   ]
  },
  {
   "cell_type": "markdown",
   "metadata": {},
   "source": [
    "### 4. Combining two datasets"
   ]
  },
  {
   "cell_type": "markdown",
   "metadata": {},
   "source": [
    "- What insights could we get from merging the charts and tracks datasets?"
   ]
  },
  {
   "cell_type": "code",
   "execution_count": null,
   "metadata": {
    "ExecuteTime": {
     "end_time": "2020-09-30T15:39:38.555482Z",
     "start_time": "2020-09-30T15:39:38.101740Z"
    }
   },
   "outputs": [],
   "source": [
    "# read the tracks dataset\n",
    "tracks_df = pd.read_csv('data/spotify_daily_charts_tracks.csv')\n",
    "tracks_df.head()"
   ]
  },
  {
   "cell_type": "code",
   "execution_count": null,
   "metadata": {
    "ExecuteTime": {
     "end_time": "2020-09-30T15:39:38.934266Z",
     "start_time": "2020-09-30T15:39:38.559478Z"
    },
    "scrolled": true
   },
   "outputs": [],
   "source": [
    "df = charts_df.merge(tracks_df, on='track_id', how='left')\n",
    "df.head()"
   ]
  },
  {
   "cell_type": "code",
   "execution_count": null,
   "metadata": {
    "ExecuteTime": {
     "end_time": "2020-09-30T16:17:23.826257Z",
     "start_time": "2020-09-30T16:17:23.813267Z"
    }
   },
   "outputs": [],
   "source": [
    "#Always check number of rows when performing merges\n",
    "charts_df.shape, tracks_df.shape, df.shape"
   ]
  },
  {
   "cell_type": "code",
   "execution_count": null,
   "metadata": {
    "ExecuteTime": {
     "end_time": "2020-09-30T15:39:38.982239Z",
     "start_time": "2020-09-30T15:39:38.938263Z"
    }
   },
   "outputs": [],
   "source": [
    "df.columns"
   ]
  },
  {
   "cell_type": "code",
   "execution_count": null,
   "metadata": {
    "ExecuteTime": {
     "end_time": "2020-09-30T15:39:40.013648Z",
     "start_time": "2020-09-30T15:39:39.392001Z"
    }
   },
   "outputs": [],
   "source": [
    "#drop duplicated track_name column\n",
    "df = df.drop(columns='track_name_y')\n",
    "#rename trace_name x\n",
    "df = df.rename(columns={'track_name_x':'track_name'})\n",
    "df.head()"
   ]
  },
  {
   "cell_type": "code",
   "execution_count": null,
   "metadata": {
    "ExecuteTime": {
     "end_time": "2020-09-30T15:39:40.076609Z",
     "start_time": "2020-09-30T15:39:40.016645Z"
    }
   },
   "outputs": [],
   "source": [
    "#check if expected columns are present\n",
    "df.columns"
   ]
  },
  {
   "cell_type": "markdown",
   "metadata": {},
   "source": [
    "## Q&A"
   ]
  },
  {
   "cell_type": "markdown",
   "metadata": {},
   "source": [
    "Q1: What are the top 10 songs in terms of total streams from 2018 to 2020?"
   ]
  },
  {
   "cell_type": "code",
   "execution_count": null,
   "metadata": {
    "ExecuteTime": {
     "end_time": "2020-09-30T15:39:44.836886Z",
     "start_time": "2020-09-30T15:39:43.550624Z"
    }
   },
   "outputs": [],
   "source": [
    "# groupby tracks and sum streams, sort and get first 10 rows \n",
    "df.groupby(['track_id','track_name'])['streams'].sum().sort_values(ascending=False)[:10]"
   ]
  },
  {
   "cell_type": "markdown",
   "metadata": {},
   "source": [
    "Q2: Whats the mean tempo of the top 10 most streamed songs?"
   ]
  },
  {
   "cell_type": "code",
   "execution_count": null,
   "metadata": {
    "ExecuteTime": {
     "end_time": "2020-09-30T15:39:48.172981Z",
     "start_time": "2020-09-30T15:39:47.704246Z"
    }
   },
   "outputs": [],
   "source": [
    "top10songs = df.groupby(['track_id','track_name'])['streams'].sum()\\\n",
    "            .sort_values(ascending=False)[:10]\\\n",
    "            .reset_index()['track_id'].values\n",
    "top10songs"
   ]
  },
  {
   "cell_type": "code",
   "execution_count": null,
   "metadata": {
    "ExecuteTime": {
     "end_time": "2020-09-30T15:39:57.080885Z",
     "start_time": "2020-09-30T15:39:56.350301Z"
    }
   },
   "outputs": [],
   "source": [
    "#isin selects elements in list\n",
    "df[df['track_id'].isin(top10songs)]['tempo'].mean() #in bpm"
   ]
  },
  {
   "cell_type": "markdown",
   "metadata": {},
   "source": [
    "Q2a. Follow-up: How does this compare with the mean tempo of the rest of the songs?"
   ]
  },
  {
   "cell_type": "code",
   "execution_count": null,
   "metadata": {
    "ExecuteTime": {
     "end_time": "2020-09-30T15:56:36.906472Z",
     "start_time": "2020-09-30T15:56:34.750703Z"
    },
    "scrolled": true
   },
   "outputs": [],
   "source": [
    "#use ~ to negate\n",
    "df[~df['track_id'].isin(top10songs)]['tempo'].mean() #in bpm"
   ]
  },
  {
   "cell_type": "markdown",
   "metadata": {},
   "source": [
    "Q3: What are the top 5 “saddest” charting songs for 2020? "
   ]
  },
  {
   "cell_type": "code",
   "execution_count": null,
   "metadata": {
    "ExecuteTime": {
     "end_time": "2020-09-30T16:02:09.079447Z",
     "start_time": "2020-09-30T16:02:08.601719Z"
    }
   },
   "outputs": [],
   "source": [
    "#filter by year, drop duplicates for track, sort valence from least to greatest,get first 5 indices \n",
    "df[df['year']==2020].drop_duplicates(['track_id','track_name']).sort_values('valence')[:5][['track_name','artist']]"
   ]
  },
  {
   "cell_type": "markdown",
   "metadata": {},
   "source": [
    "### Plain tables as output?\n",
    "1. Tables are simple fast answers to simple fast questions\n",
    "2. Tables are very useful for troubleshooting. The numbers often reveal if there was something wrong with the data source/processing\n",
    "3. In most office setups, analtyics output are often offtaked by another team (e.g. market segments group -> finance for sales projections). As it could be readily plugged into their computations, they usually prefer tables instead of deployed products."
   ]
  },
  {
   "cell_type": "code",
   "execution_count": null,
   "metadata": {},
   "outputs": [],
   "source": []
  },
  {
   "cell_type": "code",
   "execution_count": null,
   "metadata": {},
   "outputs": [],
   "source": []
  }
 ],
 "metadata": {
  "kernelspec": {
   "display_name": "Python 3",
   "language": "python",
   "name": "python3"
  },
  "language_info": {
   "codemirror_mode": {
    "name": "ipython",
    "version": 3
   },
   "file_extension": ".py",
   "mimetype": "text/x-python",
   "name": "python",
   "nbconvert_exporter": "python",
   "pygments_lexer": "ipython3",
   "version": "3.7.3"
  }
 },
 "nbformat": 4,
 "nbformat_minor": 2
}
