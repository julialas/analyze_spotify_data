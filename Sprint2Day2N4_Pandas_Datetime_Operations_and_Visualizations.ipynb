{
 "cells": [
  {
   "cell_type": "markdown",
   "metadata": {},
   "source": [
    "# Pandas Datetime Capabilities and Visualizations"
   ]
  },
  {
   "cell_type": "markdown",
   "metadata": {},
   "source": [
    "Pandas' datetime objects makes it possible to accomplish complex datetime operations in just a few lines of code."
   ]
  },
  {
   "cell_type": "code",
   "execution_count": null,
   "metadata": {
    "ExecuteTime": {
     "end_time": "2020-10-08T09:19:24.905225Z",
     "start_time": "2020-10-08T09:19:24.880242Z"
    }
   },
   "outputs": [],
   "source": [
    "# importing the libraries for data processing\n",
    "import numpy as np \n",
    "import pandas as pd \n",
    "\n",
    "#matplotlib for visualizations\n",
    "import matplotlib.pyplot as plt\n"
   ]
  },
  {
   "cell_type": "markdown",
   "metadata": {},
   "source": [
    "### 1. Data Preparation\n",
    "Merge the charts and the tracks datasets. Repeat the process from the previous notebook"
   ]
  },
  {
   "cell_type": "code",
   "execution_count": null,
   "metadata": {
    "ExecuteTime": {
     "end_time": "2020-10-08T09:19:26.432347Z",
     "start_time": "2020-10-08T09:19:24.915218Z"
    }
   },
   "outputs": [],
   "source": [
    "# read and process the charts dataset\n",
    "charts_df = pd.read_csv('data/spotify_daily_charts.csv')\n",
    "#transform date column into a datetime column\n",
    "charts_df['date'] = pd.to_datetime(charts_df['date'])\n",
    "charts_df.head()"
   ]
  },
  {
   "cell_type": "code",
   "execution_count": null,
   "metadata": {
    "ExecuteTime": {
     "end_time": "2020-10-08T09:19:26.651225Z",
     "start_time": "2020-10-08T09:19:26.444343Z"
    },
    "scrolled": true
   },
   "outputs": [],
   "source": [
    "# read and process the tracks dataset\n",
    "tracks_df = pd.read_csv('data/spotify_daily_charts_tracks.csv')\n",
    "tracks_df.head()"
   ]
  },
  {
   "cell_type": "markdown",
   "metadata": {},
   "source": [
    "View track feature distribution"
   ]
  },
  {
   "cell_type": "code",
   "execution_count": null,
   "metadata": {
    "ExecuteTime": {
     "end_time": "2020-10-08T09:19:27.652652Z",
     "start_time": "2020-10-08T09:19:26.664219Z"
    }
   },
   "outputs": [],
   "source": [
    "df = charts_df.merge(tracks_df, on='track_id', how='left')\n",
    "\n",
    "df = df.drop(columns='track_name_y')\n",
    "df = df.rename(columns={'track_name_x':'track_name'})\n",
    "\n",
    "df.head()"
   ]
  },
  {
   "cell_type": "markdown",
   "metadata": {},
   "source": [
    "### 2. Pandas Time Series Aggregation Capabilties\n",
    "A *time series* is any data that is indexed by some measure of time. \n",
    "\n",
    "A *time series plot* is a graph where some measure of time is the unit on the x-axis, often called the time-axis. The y-axis is for the variable that is being measured. \n",
    "\n",
    "Pandas has some quick one-liners to help you operate on time series data."
   ]
  },
  {
   "cell_type": "markdown",
   "metadata": {},
   "source": [
    "##### 2.1. Resampling\n",
    "\n",
    "With a datetime object set as index, a pandas dataframe can be aggregated in time with one simple line!"
   ]
  },
  {
   "cell_type": "code",
   "execution_count": null,
   "metadata": {
    "ExecuteTime": {
     "end_time": "2020-10-08T09:19:27.796572Z",
     "start_time": "2020-10-08T09:19:27.659648Z"
    }
   },
   "outputs": [],
   "source": [
    "df = df.set_index('date')\n",
    "df.head()"
   ]
  },
  {
   "cell_type": "code",
   "execution_count": null,
   "metadata": {
    "ExecuteTime": {
     "end_time": "2020-10-08T09:19:27.876524Z",
     "start_time": "2020-10-08T09:19:27.803566Z"
    }
   },
   "outputs": [],
   "source": [
    "#get total yearly streams\n",
    "yr_df = df['streams'].resample('Y').sum() #M for month\n",
    "yr_df"
   ]
  },
  {
   "cell_type": "code",
   "execution_count": null,
   "metadata": {
    "ExecuteTime": {
     "end_time": "2020-10-08T09:19:28.592119Z",
     "start_time": "2020-10-08T09:19:27.884520Z"
    }
   },
   "outputs": [],
   "source": [
    "#bar chart of yearly streams\n",
    "fig= plt.figure(figsize=(8,6))\n",
    "ax = fig.add_subplot(111)\n",
    "yr_df.plot(ax=ax)\n",
    "\n",
    "#Uncomment for cleaner x labels\n",
    "#ax.set_xticklabels([x.strftime('%Y') for x in yr_df.index], rotation=0)\n",
    "\n",
    "plt.xlabel('year')\n",
    "plt.ylabel('Streams (in billions)')\n",
    "plt.title('Spotify Yearly Total Streams')"
   ]
  },
  {
   "cell_type": "code",
   "execution_count": null,
   "metadata": {
    "ExecuteTime": {
     "end_time": "2020-10-08T09:19:28.655078Z",
     "start_time": "2020-10-08T09:19:28.602110Z"
    }
   },
   "outputs": [],
   "source": [
    "#get total monthly streams\n",
    "mon_df = df['streams'].resample('MS').sum() #M for month\n",
    "mon_df"
   ]
  },
  {
   "cell_type": "code",
   "execution_count": null,
   "metadata": {
    "ExecuteTime": {
     "end_time": "2020-10-08T09:19:29.496597Z",
     "start_time": "2020-10-08T09:19:28.662075Z"
    }
   },
   "outputs": [],
   "source": [
    "#line chart of monthly streams\n",
    "\n",
    "fig= plt.figure(figsize=(8,6))\n",
    "ax = fig.add_subplot(111)\n",
    "#default is line so you can omit kind= parameter\n",
    "mon_df.plot(ax=ax, kind='line')\n",
    "\n",
    "#Uncomment for cleaner x labels\n",
    "#ax.set_xticklabels([x.strftime('%Y-%m') for x in mon_df.index])\n",
    "\n",
    "plt.ylabel('streams (in hundred millions)')\n",
    "plt.title('Spotify Monthly Total Streams')"
   ]
  },
  {
   "cell_type": "markdown",
   "metadata": {},
   "source": [
    "Q: Compute for the artist *BLACKPINK*'s total yearly streams from 2018-2020"
   ]
  },
  {
   "cell_type": "code",
   "execution_count": null,
   "metadata": {
    "ExecuteTime": {
     "end_time": "2020-10-08T09:19:29.575553Z",
     "start_time": "2020-10-08T09:19:29.501595Z"
    }
   },
   "outputs": [],
   "source": [
    "df[df['artist']=='BLACKPINK']['streams'].resample('Y').sum()"
   ]
  },
  {
   "cell_type": "markdown",
   "metadata": {},
   "source": [
    "https://pandas.pydata.org/pandas-docs/stable/reference/api/pandas.DataFrame.resample.html"
   ]
  },
  {
   "cell_type": "markdown",
   "metadata": {},
   "source": [
    "#### 2.2 First-Order differencing\n",
    "\n",
    "At times, we might be more interested in the change of a quantity in time rather than the absolute quantities. We use `df.diff()` for this"
   ]
  },
  {
   "cell_type": "code",
   "execution_count": null,
   "metadata": {
    "ExecuteTime": {
     "end_time": "2020-10-08T09:19:29.672505Z",
     "start_time": "2020-10-08T09:19:29.580550Z"
    }
   },
   "outputs": [],
   "source": [
    "# month - previous month\n",
    "delta_mon_df = mon_df.diff()\n",
    "delta_mon_df"
   ]
  },
  {
   "cell_type": "markdown",
   "metadata": {},
   "source": [
    "Q: How did Spotify streams grow month-on-month from 2018 to 2020?"
   ]
  },
  {
   "cell_type": "code",
   "execution_count": null,
   "metadata": {
    "ExecuteTime": {
     "end_time": "2020-10-08T09:19:30.434063Z",
     "start_time": "2020-10-08T09:19:29.678494Z"
    }
   },
   "outputs": [],
   "source": [
    "#line chart of monthly streams\n",
    "\n",
    "fig= plt.figure(figsize=(8,6))\n",
    "ax = fig.add_subplot(111)\n",
    "#default is line so you can omit kind= parameter\n",
    "#omit incomplete month\n",
    "delta_mon_df[:-1].plot(ax=ax)\n",
    "\n",
    "#Uncomment for cleaner x labels\n",
    "#ax.set_xticklabels([x.strftime('%Y-%m') for x in mon_df.index])\n",
    "\n",
    "#add reference line at y=0\n",
    "plt.axhline(0, color='k', ls='--')\n",
    "\n",
    "plt.ylabel('streams (in ten millions)')\n",
    "plt.title('Spotify Month-on-Month Stream Growth')"
   ]
  },
  {
   "cell_type": "markdown",
   "metadata": {},
   "source": [
    "> Q: Can you show the above month-on-month growth plot as a percentage of the previous month?"
   ]
  },
  {
   "cell_type": "markdown",
   "metadata": {},
   "source": [
    "#### 2.3 Cummulative sum\n",
    "\n",
    "We compute for the cummulative sum using `df.cumsum()`"
   ]
  },
  {
   "cell_type": "code",
   "execution_count": null,
   "metadata": {
    "ExecuteTime": {
     "end_time": "2020-10-08T09:19:30.465044Z",
     "start_time": "2020-10-08T09:19:30.438061Z"
    },
    "scrolled": true
   },
   "outputs": [],
   "source": [
    "#get cummulative total spotify monthly streams\n",
    "mon_df.cumsum()"
   ]
  },
  {
   "cell_type": "markdown",
   "metadata": {},
   "source": [
    "Q: Compute for the cummulative total monthly streams of Ben and Ben's 'Kathang Isip' "
   ]
  },
  {
   "cell_type": "code",
   "execution_count": null,
   "metadata": {
    "ExecuteTime": {
     "end_time": "2020-10-08T09:19:30.669927Z",
     "start_time": "2020-10-08T09:19:30.469042Z"
    },
    "scrolled": true
   },
   "outputs": [],
   "source": [
    "df[df['track_name']=='Kathang Isip']['streams'].resample('M').sum().cumsum()"
   ]
  },
  {
   "cell_type": "code",
   "execution_count": null,
   "metadata": {
    "ExecuteTime": {
     "end_time": "2020-10-08T09:19:31.400511Z",
     "start_time": "2020-10-08T09:19:30.673924Z"
    }
   },
   "outputs": [],
   "source": [
    "#line chart of monthly streams\n",
    "\n",
    "fig= plt.figure(figsize=(8,6))\n",
    "ax = fig.add_subplot(111)\n",
    "#default is line so you can omit kind= parameter\n",
    "data = df[df['track_name']=='Kathang Isip']['streams'].resample('M').sum().cumsum()\n",
    "\n",
    "data.plot(ax=ax,marker='o')\n",
    "#Uncomment for cleaner x labels\n",
    "#ax.set_xticklabels([x.strftime('%Y-%m') for x in mon_df.index])\n",
    "\n",
    "plt.ylabel('streams (in hundred millions)')\n",
    "plt.title('Spotify Monthly Total Streams')"
   ]
  },
  {
   "cell_type": "markdown",
   "metadata": {},
   "source": [
    "Q: How does the cummulative total monthly streams of Ed Sheeran's Shape of You compare with  Ben and Ben's 'Kathang Isip' ?"
   ]
  },
  {
   "cell_type": "code",
   "execution_count": null,
   "metadata": {
    "ExecuteTime": {
     "end_time": "2020-10-08T09:19:32.131092Z",
     "start_time": "2020-10-08T09:19:31.404508Z"
    }
   },
   "outputs": [],
   "source": [
    "#line chart of monthly streams\n",
    "\n",
    "fig= plt.figure(figsize=(8,6))\n",
    "ax = fig.add_subplot(111)\n",
    "#default is line so you can omit kind= parameter\n",
    "data1 = df[df['track_name']=='Kathang Isip']['streams'].resample('M').sum().cumsum()\n",
    "data2 = df[df['track_name']=='Shape of You']['streams'].resample('M').sum().cumsum()\n",
    "\n",
    "data1.plot(ax=ax, label='Ben&Ben- Kathang isip')\n",
    "data2.plot(ax=ax, label='Ed Sheeran- Shape of You')\n",
    "#Uncomment for cleaner x labels\n",
    "#ax.set_xticklabels([x.strftime('%Y-%m') for x in mon_df.index])\n",
    "\n",
    "plt.legend()\n",
    "plt.ylabel('streams (in hundred millions)')\n",
    "plt.title('Spotify Monthly Total Streams')"
   ]
  },
  {
   "cell_type": "markdown",
   "metadata": {
    "ExecuteTime": {
     "end_time": "2020-09-30T17:19:03.227950Z",
     "start_time": "2020-09-30T17:19:03.207963Z"
    }
   },
   "source": [
    "#### 2.4 Rolling window\n",
    "\n",
    "We can use the function `.rolling()` to define a time series window where we could aggregate the target variable"
   ]
  },
  {
   "cell_type": "markdown",
   "metadata": {},
   "source": [
    "Q: Smooth out daily streams of Ben and Ben's Kathang Isip over a 1-week window"
   ]
  },
  {
   "cell_type": "code",
   "execution_count": null,
   "metadata": {
    "ExecuteTime": {
     "end_time": "2020-10-08T09:19:32.214053Z",
     "start_time": "2020-10-08T09:19:32.135090Z"
    }
   },
   "outputs": [],
   "source": [
    "df[df['track_name']=='Kathang Isip']['streams'].rolling(7).mean()"
   ]
  },
  {
   "cell_type": "code",
   "execution_count": null,
   "metadata": {
    "ExecuteTime": {
     "end_time": "2020-10-08T09:19:32.907649Z",
     "start_time": "2020-10-08T09:19:32.220044Z"
    }
   },
   "outputs": [],
   "source": [
    "fig = plt.figure(figsize=(13,4))\n",
    "ax = fig.add_subplot(111)\n",
    "\n",
    "data1 = df[df['track_name']=='Kathang Isip']['streams']\n",
    "data2 = df[df['track_name']=='Kathang Isip']['streams'].rolling(7).mean()\n",
    "\n",
    "data1.plot(ax=ax, label='raw')\n",
    "data2.plot(ax=ax, label='smoothed')\n",
    "\n",
    "plt.legend()\n",
    "plt.ylabel('streams')\n",
    "plt.title('Spotify Daily Streams: Ben&Ben- Kathang isip')\n"
   ]
  },
  {
   "cell_type": "markdown",
   "metadata": {},
   "source": [
    "Q: Compare the 7-day smoothed daily streams of Ben and Ben's Kathang Isip and Taylor Swift's Lover"
   ]
  },
  {
   "cell_type": "code",
   "execution_count": null,
   "metadata": {
    "ExecuteTime": {
     "end_time": "2020-10-08T09:19:33.461335Z",
     "start_time": "2020-10-08T09:19:32.910648Z"
    }
   },
   "outputs": [],
   "source": [
    "fig = plt.figure(figsize=(13,4))\n",
    "ax = fig.add_subplot(111)\n",
    "\n",
    "data1 = df[(df.index.year>=2019)&(df['track_name']=='Kathang Isip')]['streams'].rolling(7).mean()\n",
    "data2 = df[(df.index.year>=2019)&(df['track_name']=='Lover')]['streams'].rolling(7).mean()\n",
    "\n",
    "data1.plot(ax=ax, label='Ben&Ben- Kathang isip')\n",
    "data2.plot(ax=ax, label='Taylor Swift- Lover')\n",
    "\n",
    "plt.legend()\n",
    "plt.ylabel('streams')\n",
    "plt.title('Spotify Daily Streams')\n"
   ]
  },
  {
   "cell_type": "markdown",
   "metadata": {},
   "source": [
    ">Q: What insights can you infer from the chart above?"
   ]
  },
  {
   "cell_type": "markdown",
   "metadata": {},
   "source": [
    "Q: Compare the 7-day top chart **position** for Ben & Ben and Ariana Grande"
   ]
  },
  {
   "cell_type": "code",
   "execution_count": null,
   "metadata": {
    "ExecuteTime": {
     "end_time": "2020-10-08T09:19:33.905080Z",
     "start_time": "2020-10-08T09:19:33.464331Z"
    },
    "scrolled": true
   },
   "outputs": [],
   "source": [
    "fig = plt.figure(figsize=(13,4))\n",
    "ax = fig.add_subplot(111)\n",
    "\n",
    "#get top position of all charting songs of the artist per day\n",
    "data1 = df[df['artist']=='Ben&Ben'].groupby('date')[['position']].min()\n",
    "#get rolling 7 day minimum of top daily positions\n",
    "data1 = data1.rolling(7).min()\n",
    "data2 = df[df['artist']=='Ariana Grande'].groupby('date')[['position']].min()\n",
    "data2 = data2.rolling(7).min()\n",
    "\n",
    "data1.plot(ax=ax, label='Ben&Ben')\n",
    "data2.plot(ax=ax, label='Ariana Grande')\n",
    "\n",
    "#reverse the yaxis to show 1 on top\n",
    "#plt.ylim([200,0])\n",
    "plt.yticks([1]+np.arange(25,201,25).tolist())\n",
    "\n",
    "plt.legend()\n",
    "plt.ylabel('Chart Position')\n",
    "plt.title('Spotify Weekly Top Chart Positions')"
   ]
  },
  {
   "cell_type": "markdown",
   "metadata": {},
   "source": [
    ">Q: What insights can you infer from the chart above?"
   ]
  },
  {
   "cell_type": "markdown",
   "metadata": {},
   "source": [
    "### 4. Interactive Time-Series plot in Bokeh\n"
   ]
  },
  {
   "cell_type": "code",
   "execution_count": null,
   "metadata": {
    "ExecuteTime": {
     "end_time": "2020-10-08T09:19:33.936062Z",
     "start_time": "2020-10-08T09:19:33.907077Z"
    }
   },
   "outputs": [],
   "source": [
    "# Standard imports \n",
    "from bokeh.io import output_notebook, show\n",
    "from bokeh.plotting import figure\n",
    "\n",
    "from bokeh.models.tools import HoverTool\n",
    "\n",
    "from bokeh.models import ColumnDataSource, Range1d\n",
    "output_notebook()"
   ]
  },
  {
   "cell_type": "markdown",
   "metadata": {},
   "source": [
    ">Q: Compare the contribution of the top 1-50 tracks vs top 50-200 tracks in the yearly streams of Spotify"
   ]
  },
  {
   "cell_type": "code",
   "execution_count": null,
   "metadata": {},
   "outputs": [],
   "source": [
    "#add is_in_top_50 column in df\n",
    "df['is_in_top50']=df['position']<=50\n",
    "df.head()"
   ]
  },
  {
   "cell_type": "code",
   "execution_count": null,
   "metadata": {},
   "outputs": [],
   "source": [
    "#get total yearly streams\n",
    "yr_seg_df = df.groupby('is_in_top50')[['streams']].resample('Y').sum().reset_index()\n",
    "yr_seg_df"
   ]
  },
  {
   "cell_type": "code",
   "execution_count": null,
   "metadata": {},
   "outputs": [],
   "source": [
    "p = figure(title=\"Spotify Yearly Streams for Charting Tracks\",plot_width=500, plot_height=300)\n",
    "data = yr_seg_df\n",
    "p.vbar(x=yr_df.index.year.values-0.15,\\\n",
    "       top=data[data['is_in_top50']==True]['streams'].values/1000000000,\n",
    "       width=0.2, bottom=0, color=\"crimson\", legend_label='Top50')\n",
    "p.vbar(x=yr_df.index.year.values+0.15,\\\n",
    "       top=data[data['is_in_top50']==True]['streams'].values/1000000000,\n",
    "       width=0.2, bottom=0, color=\"dodgerblue\", legend_label='Top51-100')\n",
    "\n",
    "p.xaxis.axis_label = 'date'\n",
    "p.yaxis.axis_label = 'Streams (in billions)'\n",
    "\n",
    "p.legend.label_text_font_size = '8pt'\n",
    "p.legend.click_policy=\"hide\"\n",
    "\n",
    "show(p)"
   ]
  },
  {
   "cell_type": "markdown",
   "metadata": {},
   "source": [
    ">Q: What insights can you infer from the chart above?"
   ]
  },
  {
   "cell_type": "markdown",
   "metadata": {},
   "source": [
    "Convert the time series static plots into Bokeh charts"
   ]
  },
  {
   "cell_type": "code",
   "execution_count": null,
   "metadata": {
    "ExecuteTime": {
     "end_time": "2020-10-08T09:20:37.606695Z",
     "start_time": "2020-10-08T09:20:36.751184Z"
    },
    "scrolled": false
   },
   "outputs": [],
   "source": [
    "#Simple time series plot with Viz\n",
    "from bokeh.models import Range1d\n",
    "\n",
    "p = figure(x_axis_type=\"datetime\", title=\"Spotify Daily Charts\", plot_height=350, plot_width=800)\n",
    "p.xgrid.grid_line_color=None\n",
    "p.ygrid.grid_line_alpha=0.5\n",
    "p.xaxis.axis_label = 'date'\n",
    "p.yaxis.axis_label = 'Position'\n",
    "p.y_range.flipped = True\n",
    "p.y_range=Range1d(200,0.5)\n",
    "\n",
    "p.yaxis.ticker = [1,50,100,150,200]\n",
    "#p.xaxis.major_label_overrides = {1: 'A', 2: 'B', 3: 'C'}\n",
    "\n",
    "artists = ['Ariana Grande','Ben&Ben']\n",
    "colors=['orange','blue']\n",
    "for n,artist in enumerate(artists):\n",
    "    artist_df = pd.DataFrame({'date':pd.unique(df.index)}).set_index('date')\n",
    "    positions = df[df['artist']==artist].groupby('date')[['position']].min().rolling(7).min()\n",
    "    artist_df['position'] = positions\n",
    "    artist_df = artist_df.reset_index()\n",
    "    \n",
    "    #add .flatten() to y-values to deal with rolling window value nesting\n",
    "    p.line(artist_df['date'], artist_df['position'], color=colors[n],legend_label=artist)\n",
    "    \n",
    "\n",
    "p.legend.location = \"bottom_right\"\n",
    "p.legend.click_policy=\"hide\"\n",
    "\n",
    "show(p)"
   ]
  },
  {
   "cell_type": "code",
   "execution_count": null,
   "metadata": {
    "ExecuteTime": {
     "end_time": "2020-10-08T10:55:21.495403Z",
     "start_time": "2020-10-08T10:55:19.212495Z"
    },
    "code_folding": [
     34
    ]
   },
   "outputs": [],
   "source": [
    "#Simple time series plot with selectable legend and hover output\n",
    "\n",
    "p = figure(x_axis_type=\"datetime\", title=\"Spotify Daily Charts\", plot_height=350, plot_width=800)\n",
    "\n",
    "#reformat data to suit ColumnDataSource\n",
    "artists = ['Ariana Grande','Ben&Ben']\n",
    "colors=['blue','orange','red']\n",
    "for n,artist in enumerate(artists):\n",
    "    artist_df = pd.DataFrame({'date':pd.unique(df.index)}).set_index('date')\n",
    "    top5songs = df[(df['artist']==artist)].groupby(['track_name'])[['streams']].sum()\\\n",
    "                                            .sort_values(by='streams', ascending=False)[:5].reset_index()['track_name']\n",
    "    positions = df[(df['artist']==artist)&(df['track_name'].isin(top5songs))].groupby('date')[['position']].min().rolling(7).min()\n",
    "    artist_df['position'] = positions\n",
    "    artist_df = artist_df.reset_index()\n",
    "    artist_df['artist'] = artist\n",
    "\n",
    "    source = ColumnDataSource(data = {'date': artist_df['date'].values,\n",
    "                                      'position': artist_df['position'].values,\n",
    "                                      'artist': artist_df['artist'].values})\n",
    "    \n",
    "    #add .flatten() to y-values to deal with rolling window value nesting\n",
    "    p.line(x='date', y='position', color=colors[n], source=source, legend_label=artist)\n",
    "    #add hover tool\n",
    "    p.add_tools(HoverTool(\n",
    "        tooltips=[\n",
    "                ( 'date',   '@date{%F}'),\n",
    "                ( 'position',  '@position' ), # use @{ } for field names with spaces\n",
    "                ( 'artist', '@artist'      ),\n",
    "            ],\n",
    "        formatters={\n",
    "            '@date' : 'datetime',\n",
    "        }\n",
    "    ))\n",
    "\n",
    "#plot formatting\n",
    "p.xgrid.grid_line_color=None\n",
    "p.ygrid.grid_line_alpha=0.5\n",
    "p.xaxis.axis_label = 'date'\n",
    "p.yaxis.axis_label = 'Position'\n",
    "p.y_range.flipped = True\n",
    "p.y_range=Range1d(200,0)\n",
    "p.yaxis.ticker = [1,50,100,150,200]\n",
    "\n",
    "p.legend.location = \"bottom_right\"\n",
    "p.legend.click_policy=\"hide\"\n",
    "\n",
    "show(p)"
   ]
  },
  {
   "cell_type": "markdown",
   "metadata": {},
   "source": [
    "## Try it yourself!"
   ]
  },
  {
   "cell_type": "markdown",
   "metadata": {},
   "source": [
    "1. Among those included in the Spotify charts, pick 1 artist you like to analyze. \n",
    "\n",
    "   a. Plot the streams and positions of their top 5 streamed songs.\n",
    "   \n",
    "   b. Compare these charts with streams and positions of what you feel to be a possible collaborator/competitor/related artist. \n",
    "\n",
    "   What insights can you draw from the data?"
   ]
  },
  {
   "cell_type": "code",
   "execution_count": null,
   "metadata": {
    "ExecuteTime": {
     "end_time": "2020-10-08T10:30:35.484810Z",
     "start_time": "2020-10-08T10:30:35.267934Z"
    }
   },
   "outputs": [],
   "source": []
  },
  {
   "cell_type": "code",
   "execution_count": null,
   "metadata": {},
   "outputs": [],
   "source": []
  }
 ],
 "metadata": {
  "kernelspec": {
   "display_name": "Python 3",
   "language": "python",
   "name": "python3"
  },
  "language_info": {
   "codemirror_mode": {
    "name": "ipython",
    "version": 3
   },
   "file_extension": ".py",
   "mimetype": "text/x-python",
   "name": "python",
   "nbconvert_exporter": "python",
   "pygments_lexer": "ipython3",
   "version": "3.8.5"
  }
 },
 "nbformat": 4,
 "nbformat_minor": 2
}
